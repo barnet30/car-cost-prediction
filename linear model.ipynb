{
 "cells": [
  {
   "cell_type": "markdown",
   "id": "493c9736",
   "metadata": {},
   "source": [
    "**Бизнес-постановка задачи** \n",
    "\n",
    "Оценка подержанного автомобиля - это достаточно трудная задача, так как на стоимость влияют различные факторы, например, возраст автомобиля, его состояние, пробег и даже личное отношение продавца. Таким образом, цена подержанных автомобилей на рынке не является постоянной. И поскольку нет прозрачности в её образовании, а спрос растет ежегодно, у нечестных предпринимателей возникает стимул иррационально завышать цену. Модель для оценки стоимости подержанного автомобиля помогла бы покупателям не переплатить за желаемое авто, а честным продавцам быстро устанавливать цену, соответствующую их предложениям. "
   ]
  },
  {
   "cell_type": "markdown",
   "id": "e639562a",
   "metadata": {},
   "source": [
    "**Постановка задачи анализа данных** \n",
    "\n",
    "Целью данной задачи является прогнозирование цены на подержанные автомобили с помощью построения регрессионных моделей и их анализа. Набор данных состоит из информации о транспортных средствах, выставленных на продажу на сайте Avito. Данные опубликованы в открытом доступе. Для формирования excel файла используется парсер на selenium."
   ]
  },
  {
   "cell_type": "markdown",
   "id": "286416f9",
   "metadata": {},
   "source": [
    "Итак, данные содержат два типа переменных:\n",
    "\n",
    "* Целевая: **price**\n",
    "* Остальные переменные: **13 переменных, которые могут использоваться для прогноза целевой переменной.**"
   ]
  },
  {
   "cell_type": "markdown",
   "id": "2cb7faca",
   "metadata": {},
   "source": [
    "## План анализа данных (data mining):\n",
    "\n",
    "  1. Загрузить данные для обучения\n",
    "  2. Обработать данные перед обучением модели\n",
    "  3. Обучить модель на обучающей выборке\n",
    "  4. Загрузить и предобработать данные для тестирования\n",
    "  5. Провалидировать модель на тестовой выборке"
   ]
  },
  {
   "cell_type": "markdown",
   "id": "a5412d9e",
   "metadata": {},
   "source": [
    "## 1. Загрузить данные для обучения"
   ]
  },
  {
   "cell_type": "markdown",
   "id": "07a2ddd1",
   "metadata": {},
   "source": [
    "**Шаг 1.1. Загружаем библиотеки** "
   ]
  },
  {
   "cell_type": "markdown",
   "id": "151fea30",
   "metadata": {},
   "source": [
    "Библиотека **warnings** отвечает за то, какие предупреждения (warnings) о работе будут выводиться пользователю. \n",
    "FutureWarning - предупреждения о том, как изменится работа библиотек в будущих версиях.\n",
    "Поэтому такие предупреждения мы будем игнорировать.\n",
    "Чтобы включить режим игнорирования мы отбираем все предупреждения из категории FutureWarning и выбираем для них действия 'ignore'.\n",
    "Это делается вызовом функции simplefilter c задание двух атрибутов: действия action и категории предупреждений category."
   ]
  },
  {
   "cell_type": "code",
   "execution_count": 1,
   "id": "1ee0aa50",
   "metadata": {},
   "outputs": [],
   "source": [
    "import warnings\n",
    "warnings.simplefilter(action='ignore', category=FutureWarning)"
   ]
  },
  {
   "cell_type": "markdown",
   "id": "6597657a",
   "metadata": {},
   "source": [
    "\n",
    "\n",
    "Для корректной работы с данными в python требуется загрузить специальную библиотеку\n",
    "**pandas**, программную библиотеку на языке python для обработки и анализа данных. "
   ]
  },
  {
   "cell_type": "code",
   "execution_count": 2,
   "id": "348e5610",
   "metadata": {},
   "outputs": [],
   "source": [
    "import pandas as pd # загружаем библиотеку и для простоты обращения в коде называем её сокращенно pd"
   ]
  },
  {
   "cell_type": "markdown",
   "id": "800f0f9d",
   "metadata": {},
   "source": [
    "Для корректной работы с графиками в python требуется загрузить специальную библиотеку\n",
    "**matplotlib**, программную библиотеку на языке python для визуализации данных двумерной и трехмерной графикой.\n",
    "\n",
    "Графики используются для облегчения интерпретации полученных результатов, а также в качестве иллюстраций в презентациях и отчетах. \n",
    "\n",
    "Оснвные методы для построения:\n",
    "* plot() - графики\n",
    "* semilogy() - график логарифметический\n",
    "* hist() - гистограммы"
   ]
  },
  {
   "cell_type": "code",
   "execution_count": 3,
   "id": "04759b71",
   "metadata": {},
   "outputs": [],
   "source": [
    "import matplotlib.pyplot as plt # загружаем библиотеку и для простоты обращения в коде называем её сокращенно plt\n",
    "\n",
    "# позволяет отображать графики прямо в ноутбуке\n",
    "%matplotlib inline"
   ]
  },
  {
   "cell_type": "markdown",
   "id": "979e9437",
   "metadata": {},
   "source": [
    "**Шаг 1.2. Загрузим данные**\n",
    "\n"
   ]
  },
  {
   "cell_type": "markdown",
   "id": "b505700c",
   "metadata": {},
   "source": [
    "Для решения задачи мы будем использовать данные. Они состоят из двух частей: часть для обучения и часть для тестирования модели. Так как данные в формате xlsx (Excel), мы будем использовать специальную функцию\n",
    "из библиотеки pandas для загрузки таких данных **read_excel**.\n",
    "В функции передаем один атрибут: название таблицы с данными."
   ]
  },
  {
   "cell_type": "code",
   "execution_count": 4,
   "id": "782a4ceb",
   "metadata": {},
   "outputs": [],
   "source": [
    "parsed_data = pd.read_excel('parsed_car_data.xlsx', usecols=lambda x: 'Unnamed' not in x) # загружаем таблицу в переменную training_data"
   ]
  },
  {
   "cell_type": "code",
   "execution_count": 5,
   "id": "97ac72ad",
   "metadata": {},
   "outputs": [
    {
     "data": {
      "text/html": [
       "<div>\n",
       "<style scoped>\n",
       "    .dataframe tbody tr th:only-of-type {\n",
       "        vertical-align: middle;\n",
       "    }\n",
       "\n",
       "    .dataframe tbody tr th {\n",
       "        vertical-align: top;\n",
       "    }\n",
       "\n",
       "    .dataframe thead th {\n",
       "        text-align: right;\n",
       "    }\n",
       "</style>\n",
       "<table border=\"1\" class=\"dataframe\">\n",
       "  <thead>\n",
       "    <tr style=\"text-align: right;\">\n",
       "      <th></th>\n",
       "      <th>Mark</th>\n",
       "      <th>Model</th>\n",
       "      <th>Price</th>\n",
       "      <th>Release_Year</th>\n",
       "      <th>Mileage</th>\n",
       "      <th>Owners</th>\n",
       "      <th>Status</th>\n",
       "      <th>Power</th>\n",
       "      <th>Engine_capacity</th>\n",
       "      <th>Engine_type</th>\n",
       "      <th>Transmission</th>\n",
       "      <th>Drive</th>\n",
       "      <th>Body_type</th>\n",
       "      <th>Color</th>\n",
       "    </tr>\n",
       "  </thead>\n",
       "  <tbody>\n",
       "    <tr>\n",
       "      <th>0</th>\n",
       "      <td>ВАЗ (LADA)</td>\n",
       "      <td>2110</td>\n",
       "      <td>90000</td>\n",
       "      <td>2001</td>\n",
       "      <td>255000.0</td>\n",
       "      <td>4+</td>\n",
       "      <td>Не битый</td>\n",
       "      <td>94.0</td>\n",
       "      <td>1.5</td>\n",
       "      <td>Бензин</td>\n",
       "      <td>Механика</td>\n",
       "      <td>Передний</td>\n",
       "      <td>Седан</td>\n",
       "      <td>Синий</td>\n",
       "    </tr>\n",
       "    <tr>\n",
       "      <th>1</th>\n",
       "      <td>Nissan</td>\n",
       "      <td>Almera</td>\n",
       "      <td>563500</td>\n",
       "      <td>2014</td>\n",
       "      <td>170000.0</td>\n",
       "      <td>1</td>\n",
       "      <td>Не битый</td>\n",
       "      <td>102.0</td>\n",
       "      <td>1.6</td>\n",
       "      <td>Бензин</td>\n",
       "      <td>Механика</td>\n",
       "      <td>Передний</td>\n",
       "      <td>Седан</td>\n",
       "      <td>Белый</td>\n",
       "    </tr>\n",
       "    <tr>\n",
       "      <th>2</th>\n",
       "      <td>Kia</td>\n",
       "      <td>Ceed</td>\n",
       "      <td>1800000</td>\n",
       "      <td>2022</td>\n",
       "      <td>2670.0</td>\n",
       "      <td>1</td>\n",
       "      <td>Не битый</td>\n",
       "      <td>128.0</td>\n",
       "      <td>1.6</td>\n",
       "      <td>Бензин</td>\n",
       "      <td>Автомат</td>\n",
       "      <td>Передний</td>\n",
       "      <td>Хетчбэк</td>\n",
       "      <td>Серебряный</td>\n",
       "    </tr>\n",
       "    <tr>\n",
       "      <th>3</th>\n",
       "      <td>Hyundai</td>\n",
       "      <td>Staria</td>\n",
       "      <td>3999000</td>\n",
       "      <td>2022</td>\n",
       "      <td>5000.0</td>\n",
       "      <td>1</td>\n",
       "      <td>Не битый</td>\n",
       "      <td>177.0</td>\n",
       "      <td>2.2</td>\n",
       "      <td>Дизель</td>\n",
       "      <td>Автомат</td>\n",
       "      <td>Передний</td>\n",
       "      <td>Минивэн</td>\n",
       "      <td>Серый</td>\n",
       "    </tr>\n",
       "    <tr>\n",
       "      <th>4</th>\n",
       "      <td>ВАЗ (LADA)</td>\n",
       "      <td>2114 Samara</td>\n",
       "      <td>79000</td>\n",
       "      <td>2007</td>\n",
       "      <td>164000.0</td>\n",
       "      <td>3</td>\n",
       "      <td>Не битый</td>\n",
       "      <td>81.0</td>\n",
       "      <td>1.6</td>\n",
       "      <td>Бензин</td>\n",
       "      <td>Механика</td>\n",
       "      <td>Передний</td>\n",
       "      <td>Хетчбэк</td>\n",
       "      <td>Серебряный</td>\n",
       "    </tr>\n",
       "  </tbody>\n",
       "</table>\n",
       "</div>"
      ],
      "text/plain": [
       "         Mark        Model    Price  Release_Year   Mileage Owners    Status  \\\n",
       "0  ВАЗ (LADA)         2110    90000          2001  255000.0     4+  Не битый   \n",
       "1      Nissan       Almera   563500          2014  170000.0      1  Не битый   \n",
       "2         Kia         Ceed  1800000          2022    2670.0      1  Не битый   \n",
       "3     Hyundai       Staria  3999000          2022    5000.0      1  Не битый   \n",
       "4  ВАЗ (LADA)  2114 Samara    79000          2007  164000.0      3  Не битый   \n",
       "\n",
       "   Power  Engine_capacity Engine_type Transmission     Drive Body_type  \\\n",
       "0   94.0              1.5      Бензин     Механика  Передний     Седан   \n",
       "1  102.0              1.6      Бензин     Механика  Передний     Седан   \n",
       "2  128.0              1.6      Бензин      Автомат  Передний   Хетчбэк   \n",
       "3  177.0              2.2      Дизель      Автомат  Передний   Минивэн   \n",
       "4   81.0              1.6      Бензин     Механика  Передний   Хетчбэк   \n",
       "\n",
       "        Color  \n",
       "0       Синий  \n",
       "1       Белый  \n",
       "2  Серебряный  \n",
       "3       Серый  \n",
       "4  Серебряный  "
      ]
     },
     "execution_count": 5,
     "metadata": {},
     "output_type": "execute_result"
    }
   ],
   "source": [
    "parsed_data.head()"
   ]
  },
  {
   "cell_type": "markdown",
   "id": "17d7c549",
   "metadata": {},
   "source": [
    "Ниже в таблице представлено описание каждого из 14 полей."
   ]
  },
  {
   "cell_type": "markdown",
   "id": "20b8f3f4",
   "metadata": {},
   "source": [
    "|Название поля \t |Описание      \t                              |Название поля   |Описание                                  |\n",
    "|:--------------:|:----------------------------------------------:|:--------------:|:----------------------------------------:|\n",
    "|**Mark**        |Марка авто                                      |**Status**      |Состояние                                 |\n",
    "|**Model**       |Модель авто   \t                              |**Power**       |Мощность двигателя                        |\n",
    "|**Price**       |Стоимость       \t                              |**Engine_capacity**|Объём двигателя                        |\n",
    "|**Release_Year**|Год выпуска       \t                          |**Engie_type**  |Тип двигателя                             |\n",
    "|**Mileage**     |Пробег                                          |**Transmission**|Коробка передач                           |\n",
    "|**Owners**      |Количество владельцев                           |**Drive**       |Привод                                    |\n",
    "|**Body_type**   |Тип кузова                                      |**Color**       |Цвет                                      |"
   ]
  },
  {
   "cell_type": "code",
   "execution_count": 6,
   "id": "6a98cda5",
   "metadata": {},
   "outputs": [
    {
     "data": {
      "text/plain": [
       "(17527, 14)"
      ]
     },
     "execution_count": 6,
     "metadata": {},
     "output_type": "execute_result"
    }
   ],
   "source": [
    "parsed_data.shape"
   ]
  },
  {
   "cell_type": "markdown",
   "id": "cbd83795",
   "metadata": {},
   "source": [
    "*Что означает первое и второе число?*\n",
    "\n",
    "Первое число - количество строк (объектов), а второе - количество столбцов (признаков), включая выходной (целевой) признак.\n",
    "Таблицу проверили, теперь можно приступать к обработке данных."
   ]
  },
  {
   "cell_type": "markdown",
   "id": "067fbce1",
   "metadata": {},
   "source": [
    "# 2. Обработать данные перед обучением модели"
   ]
  },
  {
   "cell_type": "markdown",
   "id": "11a4dc67",
   "metadata": {},
   "source": [
    "**Шаг 2.1. Проверяем данные на наличие пропусков и типов переменных**\n",
    "\n",
    "Начнем с проверки общей информации о данных.\n",
    "Для того чтобы это сделать, нужно обратиться вызвать у переменной *training_data* метод **info()**.\n",
    "\n",
    "Напомним, что в конце необходимо поставить скобочки."
   ]
  },
  {
   "cell_type": "code",
   "execution_count": 7,
   "id": "41735406",
   "metadata": {},
   "outputs": [
    {
     "name": "stdout",
     "output_type": "stream",
     "text": [
      "<class 'pandas.core.frame.DataFrame'>\n",
      "RangeIndex: 17527 entries, 0 to 17526\n",
      "Data columns (total 14 columns):\n",
      " #   Column           Non-Null Count  Dtype  \n",
      "---  ------           --------------  -----  \n",
      " 0   Mark             17527 non-null  object \n",
      " 1   Model            17527 non-null  object \n",
      " 2   Price            17527 non-null  int64  \n",
      " 3   Release_Year     17527 non-null  int64  \n",
      " 4   Mileage          17525 non-null  float64\n",
      " 5   Owners           17527 non-null  object \n",
      " 6   Status           17527 non-null  object \n",
      " 7   Power            17389 non-null  float64\n",
      " 8   Engine_capacity  17476 non-null  float64\n",
      " 9   Engine_type      17527 non-null  object \n",
      " 10  Transmission     17527 non-null  object \n",
      " 11  Drive            17527 non-null  object \n",
      " 12  Body_type        17527 non-null  object \n",
      " 13  Color            17527 non-null  object \n",
      "dtypes: float64(3), int64(2), object(9)\n",
      "memory usage: 1.9+ MB\n"
     ]
    }
   ],
   "source": [
    "parsed_data.info()"
   ]
  },
  {
   "cell_type": "markdown",
   "id": "a886174b",
   "metadata": {},
   "source": [
    "Анализируем результата выполнения команды:\n",
    "\n",
    "* 999 строк (entries)\n",
    "* 14 столбцов (Data columns)\n",
    "\n",
    "В данных присутствует три типа dtypes:\n",
    "* int64 - целое число  (3 столбца)\n",
    "* float64 - дробное число (2 столбца)\n",
    "* object - не число, обычно текст (9 столбцов)\n",
    "\n",
    "В нашем случае признаки с типом object имеют текстовые значения. \n",
    "\n",
    "Цифры в каждой строчке обозначают количество заполненных (*non-null*) значений. Видно, что в данных содержатся пропуски, так как эти цифры не в каждой строчке совпадают с полным числом строк (999)."
   ]
  },
  {
   "cell_type": "markdown",
   "id": "e3c072d8",
   "metadata": {},
   "source": [
    "**Шаг 2.2. Удаляем пропуски**\n",
    "\n",
    "Как мы уже видели выше, в наших данных есть пропуски (значения NaN). Для удобства работы выкинем такие данные из нашего датасета, применив метод **dropna()** к *parsed_data*:"
   ]
  },
  {
   "cell_type": "code",
   "execution_count": 8,
   "id": "fbdca839",
   "metadata": {},
   "outputs": [],
   "source": [
    "parsed_data = parsed_data.dropna()"
   ]
  },
  {
   "cell_type": "code",
   "execution_count": 9,
   "id": "0fedf22b",
   "metadata": {},
   "outputs": [
    {
     "data": {
      "text/plain": [
       "(17342, 14)"
      ]
     },
     "execution_count": 9,
     "metadata": {},
     "output_type": "execute_result"
    }
   ],
   "source": [
    "parsed_data.shape"
   ]
  },
  {
   "cell_type": "markdown",
   "id": "528aafc2",
   "metadata": {},
   "source": [
    "Также, после выкидывания строк с пропущенными значениями осталось 997 строка из 999. "
   ]
  },
  {
   "cell_type": "markdown",
   "id": "42d53a7e",
   "metadata": {},
   "source": [
    "Для числовых признаков можно построить гистограмму. Гистограмма - это способ графического представления табличных данных, благодаря которому можно увидеть распределение значений признака. \n",
    "\n",
    "Для построения гистограммы необходимо вызвать метод **hist()** у объекта *training_data*. Желательно указать аргумент *figsize*, который устанавливает ожидаемый размер изображения. В нашем случае это (15,15).  \n",
    "\n",
    "Заметим, что название переменной, по которой строится гистограмма, указано в названии графика."
   ]
  },
  {
   "cell_type": "code",
   "execution_count": 10,
   "id": "56ded477",
   "metadata": {},
   "outputs": [
    {
     "data": {
      "image/png": "[encoded data removed]",
      "text/plain": [
       "<Figure size 1080x1080 with 6 Axes>"
      ]
     },
     "metadata": {
      "needs_background": "light"
     },
     "output_type": "display_data"
    }
   ],
   "source": [
    "parsed_data.hist(figsize=(15, 15));"
   ]
  },
  {
   "cell_type": "code",
   "execution_count": 11,
   "id": "000e4542",
   "metadata": {},
   "outputs": [],
   "source": [
    "# parsed_data = pd.concat([parsed_data,  pd.get_dummies(parsed_data['Mark'], prefix=\"Mark\"), \n",
    "#                             pd.get_dummies(parsed_data['Model'], prefix=\"Model\"), \n",
    "#                             pd.get_dummies(parsed_data['Owners'], prefix=\"Owners\"), \n",
    "#                             pd.get_dummies(parsed_data['Status'], prefix=\"Status\"),\n",
    "#                             pd.get_dummies(parsed_data['Engine_type'], prefix=\"Engine_type\"),\n",
    "#                             pd.get_dummies(parsed_data['Transmission'], prefix=\"Transmission\"),\n",
    "#                             pd.get_dummies(parsed_data['Drive'], prefix=\"Drive\"),\n",
    "#                             pd.get_dummies(parsed_data['Body_type'], prefix=\"Body_type\"),\n",
    "#                             pd.get_dummies(parsed_data['Color'], prefix=\"Color\")], axis=1)"
   ]
  },
  {
   "cell_type": "markdown",
   "id": "46455123",
   "metadata": {},
   "source": [
    "**Шаг 2.5 Кодируем категориальные признаки**\n",
    "\n",
    "**Категориальный** признак - это такой признак, который может принимать одно значение из ограниченного числа возможных.\n",
    "Используем подход кодирования меток. Кодирование метки - это простое преобразование каждого значения в столбце в число. \n",
    "\n",
    "Прием, который вы можете использовать в pandas, - это преобразовать столбец в категорию, а затем использовать эти значения категории для кодирования метки:"
   ]
  },
  {
   "cell_type": "code",
   "execution_count": 12,
   "id": "b1d19eaa",
   "metadata": {},
   "outputs": [],
   "source": [
    "parsed_data['Mark'] = parsed_data['Mark'].astype('category')\n",
    "parsed_data['Model'] = parsed_data['Model'].astype('category')\n",
    "parsed_data['Owners'] = parsed_data['Owners'].astype('category')\n",
    "parsed_data['Status'] = parsed_data['Status'].astype('category')\n",
    "parsed_data['Engine_type'] = parsed_data['Engine_type'].astype('category')\n",
    "parsed_data['Transmission'] = parsed_data['Transmission'].astype('category')\n",
    "parsed_data['Drive'] = parsed_data['Drive'].astype('category')\n",
    "parsed_data['Body_type'] = parsed_data['Body_type'].astype('category')\n",
    "parsed_data['Color'] = parsed_data['Color'].astype('category')"
   ]
  },
  {
   "cell_type": "code",
   "execution_count": 13,
   "id": "caefc740",
   "metadata": {},
   "outputs": [
    {
     "data": {
      "text/plain": [
       "Mark               category\n",
       "Model              category\n",
       "Price                 int64\n",
       "Release_Year          int64\n",
       "Mileage             float64\n",
       "Owners             category\n",
       "Status             category\n",
       "Power               float64\n",
       "Engine_capacity     float64\n",
       "Engine_type        category\n",
       "Transmission       category\n",
       "Drive              category\n",
       "Body_type          category\n",
       "Color              category\n",
       "dtype: object"
      ]
     },
     "execution_count": 13,
     "metadata": {},
     "output_type": "execute_result"
    }
   ],
   "source": [
    "parsed_data.dtypes"
   ]
  },
  {
   "cell_type": "markdown",
   "id": "89be225c",
   "metadata": {},
   "source": [
    "Сохраняем категории в списке (код категории = индекс в списке)"
   ]
  },
  {
   "cell_type": "code",
   "execution_count": 14,
   "id": "979a8107",
   "metadata": {},
   "outputs": [],
   "source": [
    "marks_cat = list(parsed_data['Mark'].cat.categories)\n",
    "model_cat = list(parsed_data['Model'].cat.categories)\n",
    "owners_cat= list(parsed_data['Owners'].cat.categories)\n",
    "status_cat = list(parsed_data['Status'].cat.categories)\n",
    "engine_type_cat = list(parsed_data['Engine_type'].cat.categories)\n",
    "transmission_cat = list(parsed_data['Transmission'].cat.categories)\n",
    "drive_cat = list(parsed_data['Drive'].cat.categories)\n",
    "body_type_cat = list(parsed_data['Body_type'].cat.categories)\n",
    "color_cat = list(parsed_data['Color'].cat.categories)"
   ]
  },
  {
   "cell_type": "code",
   "execution_count": 15,
   "id": "32d060e4",
   "metadata": {},
   "outputs": [
    {
     "data": {
      "text/plain": [
       "49"
      ]
     },
     "execution_count": 15,
     "metadata": {},
     "output_type": "execute_result"
    }
   ],
   "source": [
    "marks_cat.index('Mercedes-Benz')"
   ]
  },
  {
   "cell_type": "markdown",
   "id": "fde19649",
   "metadata": {},
   "source": [
    "Затем вы можете назначить закодированную переменную новому столбцу с помощью метода доступа (accessor) cat.codes:"
   ]
  },
  {
   "cell_type": "code",
   "execution_count": 16,
   "id": "4adf9254",
   "metadata": {},
   "outputs": [
    {
     "data": {
      "text/html": [
       "<div>\n",
       "<style scoped>\n",
       "    .dataframe tbody tr th:only-of-type {\n",
       "        vertical-align: middle;\n",
       "    }\n",
       "\n",
       "    .dataframe tbody tr th {\n",
       "        vertical-align: top;\n",
       "    }\n",
       "\n",
       "    .dataframe thead th {\n",
       "        text-align: right;\n",
       "    }\n",
       "</style>\n",
       "<table border=\"1\" class=\"dataframe\">\n",
       "  <thead>\n",
       "    <tr style=\"text-align: right;\">\n",
       "      <th></th>\n",
       "      <th>Mark</th>\n",
       "      <th>Model</th>\n",
       "      <th>Price</th>\n",
       "      <th>Release_Year</th>\n",
       "      <th>Mileage</th>\n",
       "      <th>Owners</th>\n",
       "      <th>Status</th>\n",
       "      <th>Power</th>\n",
       "      <th>Engine_capacity</th>\n",
       "      <th>Engine_type</th>\n",
       "      <th>...</th>\n",
       "      <th>Color</th>\n",
       "      <th>Mark_cat</th>\n",
       "      <th>Model_cat</th>\n",
       "      <th>Owners_cat</th>\n",
       "      <th>Status_cat</th>\n",
       "      <th>Engine_type_cat</th>\n",
       "      <th>Transmission_cat</th>\n",
       "      <th>Drive_cat</th>\n",
       "      <th>Body_type_cat</th>\n",
       "      <th>Color_cat</th>\n",
       "    </tr>\n",
       "  </thead>\n",
       "  <tbody>\n",
       "    <tr>\n",
       "      <th>0</th>\n",
       "      <td>ВАЗ (LADA)</td>\n",
       "      <td>2110</td>\n",
       "      <td>90000</td>\n",
       "      <td>2001</td>\n",
       "      <td>255000.0</td>\n",
       "      <td>4+</td>\n",
       "      <td>Не битый</td>\n",
       "      <td>94.0</td>\n",
       "      <td>1.5</td>\n",
       "      <td>Бензин</td>\n",
       "      <td>...</td>\n",
       "      <td>Синий</td>\n",
       "      <td>74</td>\n",
       "      <td>24</td>\n",
       "      <td>3</td>\n",
       "      <td>1</td>\n",
       "      <td>0</td>\n",
       "      <td>2</td>\n",
       "      <td>1</td>\n",
       "      <td>7</td>\n",
       "      <td>14</td>\n",
       "    </tr>\n",
       "    <tr>\n",
       "      <th>1</th>\n",
       "      <td>Nissan</td>\n",
       "      <td>Almera</td>\n",
       "      <td>563500</td>\n",
       "      <td>2014</td>\n",
       "      <td>170000.0</td>\n",
       "      <td>1</td>\n",
       "      <td>Не битый</td>\n",
       "      <td>102.0</td>\n",
       "      <td>1.6</td>\n",
       "      <td>Бензин</td>\n",
       "      <td>...</td>\n",
       "      <td>Белый</td>\n",
       "      <td>51</td>\n",
       "      <td>121</td>\n",
       "      <td>0</td>\n",
       "      <td>1</td>\n",
       "      <td>0</td>\n",
       "      <td>2</td>\n",
       "      <td>1</td>\n",
       "      <td>7</td>\n",
       "      <td>1</td>\n",
       "    </tr>\n",
       "    <tr>\n",
       "      <th>2</th>\n",
       "      <td>Kia</td>\n",
       "      <td>Ceed</td>\n",
       "      <td>1800000</td>\n",
       "      <td>2022</td>\n",
       "      <td>2670.0</td>\n",
       "      <td>1</td>\n",
       "      <td>Не битый</td>\n",
       "      <td>128.0</td>\n",
       "      <td>1.6</td>\n",
       "      <td>Бензин</td>\n",
       "      <td>...</td>\n",
       "      <td>Серебряный</td>\n",
       "      <td>40</td>\n",
       "      <td>219</td>\n",
       "      <td>0</td>\n",
       "      <td>1</td>\n",
       "      <td>0</td>\n",
       "      <td>0</td>\n",
       "      <td>1</td>\n",
       "      <td>10</td>\n",
       "      <td>12</td>\n",
       "    </tr>\n",
       "    <tr>\n",
       "      <th>3</th>\n",
       "      <td>Hyundai</td>\n",
       "      <td>Staria</td>\n",
       "      <td>3999000</td>\n",
       "      <td>2022</td>\n",
       "      <td>5000.0</td>\n",
       "      <td>1</td>\n",
       "      <td>Не битый</td>\n",
       "      <td>177.0</td>\n",
       "      <td>2.2</td>\n",
       "      <td>Дизель</td>\n",
       "      <td>...</td>\n",
       "      <td>Серый</td>\n",
       "      <td>32</td>\n",
       "      <td>691</td>\n",
       "      <td>0</td>\n",
       "      <td>1</td>\n",
       "      <td>3</td>\n",
       "      <td>0</td>\n",
       "      <td>1</td>\n",
       "      <td>5</td>\n",
       "      <td>13</td>\n",
       "    </tr>\n",
       "    <tr>\n",
       "      <th>4</th>\n",
       "      <td>ВАЗ (LADA)</td>\n",
       "      <td>2114 Samara</td>\n",
       "      <td>79000</td>\n",
       "      <td>2007</td>\n",
       "      <td>164000.0</td>\n",
       "      <td>3</td>\n",
       "      <td>Не битый</td>\n",
       "      <td>81.0</td>\n",
       "      <td>1.6</td>\n",
       "      <td>Бензин</td>\n",
       "      <td>...</td>\n",
       "      <td>Серебряный</td>\n",
       "      <td>74</td>\n",
       "      <td>28</td>\n",
       "      <td>2</td>\n",
       "      <td>1</td>\n",
       "      <td>0</td>\n",
       "      <td>2</td>\n",
       "      <td>1</td>\n",
       "      <td>10</td>\n",
       "      <td>12</td>\n",
       "    </tr>\n",
       "  </tbody>\n",
       "</table>\n",
       "<p>5 rows × 23 columns</p>\n",
       "</div>"
      ],
      "text/plain": [
       "         Mark        Model    Price  Release_Year   Mileage Owners    Status  \\\n",
       "0  ВАЗ (LADA)         2110    90000          2001  255000.0     4+  Не битый   \n",
       "1      Nissan       Almera   563500          2014  170000.0      1  Не битый   \n",
       "2         Kia         Ceed  1800000          2022    2670.0      1  Не битый   \n",
       "3     Hyundai       Staria  3999000          2022    5000.0      1  Не битый   \n",
       "4  ВАЗ (LADA)  2114 Samara    79000          2007  164000.0      3  Не битый   \n",
       "\n",
       "   Power  Engine_capacity Engine_type  ...       Color Mark_cat Model_cat  \\\n",
       "0   94.0              1.5      Бензин  ...       Синий       74        24   \n",
       "1  102.0              1.6      Бензин  ...       Белый       51       121   \n",
       "2  128.0              1.6      Бензин  ...  Серебряный       40       219   \n",
       "3  177.0              2.2      Дизель  ...       Серый       32       691   \n",
       "4   81.0              1.6      Бензин  ...  Серебряный       74        28   \n",
       "\n",
       "  Owners_cat  Status_cat  Engine_type_cat  Transmission_cat  Drive_cat  \\\n",
       "0          3           1                0                 2          1   \n",
       "1          0           1                0                 2          1   \n",
       "2          0           1                0                 0          1   \n",
       "3          0           1                3                 0          1   \n",
       "4          2           1                0                 2          1   \n",
       "\n",
       "   Body_type_cat  Color_cat  \n",
       "0              7         14  \n",
       "1              7          1  \n",
       "2             10         12  \n",
       "3              5         13  \n",
       "4             10         12  \n",
       "\n",
       "[5 rows x 23 columns]"
      ]
     },
     "execution_count": 16,
     "metadata": {},
     "output_type": "execute_result"
    }
   ],
   "source": [
    "parsed_data['Mark_cat'] = parsed_data['Mark'].cat.codes\n",
    "parsed_data['Model_cat'] = parsed_data['Model'].cat.codes\n",
    "parsed_data['Owners_cat'] = parsed_data['Owners'].cat.codes\n",
    "parsed_data['Status_cat'] = parsed_data['Status'].cat.codes\n",
    "parsed_data['Engine_type_cat'] = parsed_data['Engine_type'].cat.codes\n",
    "parsed_data['Transmission_cat'] = parsed_data['Transmission'].cat.codes\n",
    "parsed_data['Drive_cat'] = parsed_data['Drive'].cat.codes\n",
    "parsed_data['Body_type_cat'] = parsed_data['Body_type'].cat.codes\n",
    "parsed_data['Color_cat'] = parsed_data['Color'].cat.codes\n",
    "parsed_data.head()"
   ]
  },
  {
   "cell_type": "code",
   "execution_count": 17,
   "id": "909e68db",
   "metadata": {},
   "outputs": [],
   "source": [
    "parsed_data.drop(['Mark', 'Model', 'Owners', 'Status', 'Engine_type', 'Transmission', 'Drive', 'Body_type', 'Color'], axis=1, inplace=True)"
   ]
  },
  {
   "cell_type": "code",
   "execution_count": 18,
   "id": "009ad1d1",
   "metadata": {
    "scrolled": true
   },
   "outputs": [
    {
     "data": {
      "text/html": [
       "<div>\n",
       "<style scoped>\n",
       "    .dataframe tbody tr th:only-of-type {\n",
       "        vertical-align: middle;\n",
       "    }\n",
       "\n",
       "    .dataframe tbody tr th {\n",
       "        vertical-align: top;\n",
       "    }\n",
       "\n",
       "    .dataframe thead th {\n",
       "        text-align: right;\n",
       "    }\n",
       "</style>\n",
       "<table border=\"1\" class=\"dataframe\">\n",
       "  <thead>\n",
       "    <tr style=\"text-align: right;\">\n",
       "      <th></th>\n",
       "      <th>Price</th>\n",
       "      <th>Release_Year</th>\n",
       "      <th>Mileage</th>\n",
       "      <th>Power</th>\n",
       "      <th>Engine_capacity</th>\n",
       "      <th>Mark_cat</th>\n",
       "      <th>Model_cat</th>\n",
       "      <th>Owners_cat</th>\n",
       "      <th>Status_cat</th>\n",
       "      <th>Engine_type_cat</th>\n",
       "      <th>Transmission_cat</th>\n",
       "      <th>Drive_cat</th>\n",
       "      <th>Body_type_cat</th>\n",
       "      <th>Color_cat</th>\n",
       "    </tr>\n",
       "  </thead>\n",
       "  <tbody>\n",
       "    <tr>\n",
       "      <th>0</th>\n",
       "      <td>90000</td>\n",
       "      <td>2001</td>\n",
       "      <td>255000.0</td>\n",
       "      <td>94.0</td>\n",
       "      <td>1.5</td>\n",
       "      <td>74</td>\n",
       "      <td>24</td>\n",
       "      <td>3</td>\n",
       "      <td>1</td>\n",
       "      <td>0</td>\n",
       "      <td>2</td>\n",
       "      <td>1</td>\n",
       "      <td>7</td>\n",
       "      <td>14</td>\n",
       "    </tr>\n",
       "    <tr>\n",
       "      <th>1</th>\n",
       "      <td>563500</td>\n",
       "      <td>2014</td>\n",
       "      <td>170000.0</td>\n",
       "      <td>102.0</td>\n",
       "      <td>1.6</td>\n",
       "      <td>51</td>\n",
       "      <td>121</td>\n",
       "      <td>0</td>\n",
       "      <td>1</td>\n",
       "      <td>0</td>\n",
       "      <td>2</td>\n",
       "      <td>1</td>\n",
       "      <td>7</td>\n",
       "      <td>1</td>\n",
       "    </tr>\n",
       "    <tr>\n",
       "      <th>2</th>\n",
       "      <td>1800000</td>\n",
       "      <td>2022</td>\n",
       "      <td>2670.0</td>\n",
       "      <td>128.0</td>\n",
       "      <td>1.6</td>\n",
       "      <td>40</td>\n",
       "      <td>219</td>\n",
       "      <td>0</td>\n",
       "      <td>1</td>\n",
       "      <td>0</td>\n",
       "      <td>0</td>\n",
       "      <td>1</td>\n",
       "      <td>10</td>\n",
       "      <td>12</td>\n",
       "    </tr>\n",
       "    <tr>\n",
       "      <th>3</th>\n",
       "      <td>3999000</td>\n",
       "      <td>2022</td>\n",
       "      <td>5000.0</td>\n",
       "      <td>177.0</td>\n",
       "      <td>2.2</td>\n",
       "      <td>32</td>\n",
       "      <td>691</td>\n",
       "      <td>0</td>\n",
       "      <td>1</td>\n",
       "      <td>3</td>\n",
       "      <td>0</td>\n",
       "      <td>1</td>\n",
       "      <td>5</td>\n",
       "      <td>13</td>\n",
       "    </tr>\n",
       "    <tr>\n",
       "      <th>4</th>\n",
       "      <td>79000</td>\n",
       "      <td>2007</td>\n",
       "      <td>164000.0</td>\n",
       "      <td>81.0</td>\n",
       "      <td>1.6</td>\n",
       "      <td>74</td>\n",
       "      <td>28</td>\n",
       "      <td>2</td>\n",
       "      <td>1</td>\n",
       "      <td>0</td>\n",
       "      <td>2</td>\n",
       "      <td>1</td>\n",
       "      <td>10</td>\n",
       "      <td>12</td>\n",
       "    </tr>\n",
       "  </tbody>\n",
       "</table>\n",
       "</div>"
      ],
      "text/plain": [
       "     Price  Release_Year   Mileage  Power  Engine_capacity  Mark_cat  \\\n",
       "0    90000          2001  255000.0   94.0              1.5        74   \n",
       "1   563500          2014  170000.0  102.0              1.6        51   \n",
       "2  1800000          2022    2670.0  128.0              1.6        40   \n",
       "3  3999000          2022    5000.0  177.0              2.2        32   \n",
       "4    79000          2007  164000.0   81.0              1.6        74   \n",
       "\n",
       "   Model_cat  Owners_cat  Status_cat  Engine_type_cat  Transmission_cat  \\\n",
       "0         24           3           1                0                 2   \n",
       "1        121           0           1                0                 2   \n",
       "2        219           0           1                0                 0   \n",
       "3        691           0           1                3                 0   \n",
       "4         28           2           1                0                 2   \n",
       "\n",
       "   Drive_cat  Body_type_cat  Color_cat  \n",
       "0          1              7         14  \n",
       "1          1              7          1  \n",
       "2          1             10         12  \n",
       "3          1              5         13  \n",
       "4          1             10         12  "
      ]
     },
     "execution_count": 18,
     "metadata": {},
     "output_type": "execute_result"
    }
   ],
   "source": [
    "parsed_data.head()"
   ]
  },
  {
   "cell_type": "markdown",
   "id": "b8ffe929",
   "metadata": {},
   "source": [
    "Разделим исходную выборку на тестовые и тренировачные данные"
   ]
  },
  {
   "cell_type": "code",
   "execution_count": 19,
   "id": "8a8a40b8",
   "metadata": {},
   "outputs": [
    {
     "data": {
      "text/html": [
       "<div>\n",
       "<style scoped>\n",
       "    .dataframe tbody tr th:only-of-type {\n",
       "        vertical-align: middle;\n",
       "    }\n",
       "\n",
       "    .dataframe tbody tr th {\n",
       "        vertical-align: top;\n",
       "    }\n",
       "\n",
       "    .dataframe thead th {\n",
       "        text-align: right;\n",
       "    }\n",
       "</style>\n",
       "<table border=\"1\" class=\"dataframe\">\n",
       "  <thead>\n",
       "    <tr style=\"text-align: right;\">\n",
       "      <th></th>\n",
       "      <th>Price</th>\n",
       "      <th>Release_Year</th>\n",
       "      <th>Mileage</th>\n",
       "      <th>Power</th>\n",
       "      <th>Engine_capacity</th>\n",
       "      <th>Mark_cat</th>\n",
       "      <th>Model_cat</th>\n",
       "      <th>Owners_cat</th>\n",
       "      <th>Status_cat</th>\n",
       "      <th>Engine_type_cat</th>\n",
       "      <th>Transmission_cat</th>\n",
       "      <th>Drive_cat</th>\n",
       "      <th>Body_type_cat</th>\n",
       "      <th>Color_cat</th>\n",
       "    </tr>\n",
       "  </thead>\n",
       "  <tbody>\n",
       "    <tr>\n",
       "      <th>16976</th>\n",
       "      <td>387000</td>\n",
       "      <td>2002</td>\n",
       "      <td>322895.0</td>\n",
       "      <td>125.0</td>\n",
       "      <td>1.7</td>\n",
       "      <td>30</td>\n",
       "      <td>698</td>\n",
       "      <td>3</td>\n",
       "      <td>1</td>\n",
       "      <td>0</td>\n",
       "      <td>2</td>\n",
       "      <td>1</td>\n",
       "      <td>5</td>\n",
       "      <td>12</td>\n",
       "    </tr>\n",
       "    <tr>\n",
       "      <th>16977</th>\n",
       "      <td>300000</td>\n",
       "      <td>2003</td>\n",
       "      <td>130000.0</td>\n",
       "      <td>231.0</td>\n",
       "      <td>1.3</td>\n",
       "      <td>48</td>\n",
       "      <td>608</td>\n",
       "      <td>3</td>\n",
       "      <td>1</td>\n",
       "      <td>0</td>\n",
       "      <td>2</td>\n",
       "      <td>0</td>\n",
       "      <td>2</td>\n",
       "      <td>4</td>\n",
       "    </tr>\n",
       "    <tr>\n",
       "      <th>16978</th>\n",
       "      <td>385000</td>\n",
       "      <td>2011</td>\n",
       "      <td>140000.0</td>\n",
       "      <td>84.0</td>\n",
       "      <td>1.2</td>\n",
       "      <td>10</td>\n",
       "      <td>144</td>\n",
       "      <td>1</td>\n",
       "      <td>1</td>\n",
       "      <td>0</td>\n",
       "      <td>2</td>\n",
       "      <td>1</td>\n",
       "      <td>7</td>\n",
       "      <td>16</td>\n",
       "    </tr>\n",
       "    <tr>\n",
       "      <th>16979</th>\n",
       "      <td>180000</td>\n",
       "      <td>1995</td>\n",
       "      <td>220000.0</td>\n",
       "      <td>136.0</td>\n",
       "      <td>2.2</td>\n",
       "      <td>53</td>\n",
       "      <td>329</td>\n",
       "      <td>3</td>\n",
       "      <td>1</td>\n",
       "      <td>0</td>\n",
       "      <td>2</td>\n",
       "      <td>2</td>\n",
       "      <td>0</td>\n",
       "      <td>13</td>\n",
       "    </tr>\n",
       "    <tr>\n",
       "      <th>16980</th>\n",
       "      <td>1199000</td>\n",
       "      <td>2013</td>\n",
       "      <td>109100.0</td>\n",
       "      <td>294.0</td>\n",
       "      <td>3.5</td>\n",
       "      <td>22</td>\n",
       "      <td>305</td>\n",
       "      <td>0</td>\n",
       "      <td>1</td>\n",
       "      <td>0</td>\n",
       "      <td>0</td>\n",
       "      <td>2</td>\n",
       "      <td>0</td>\n",
       "      <td>1</td>\n",
       "    </tr>\n",
       "    <tr>\n",
       "      <th>...</th>\n",
       "      <td>...</td>\n",
       "      <td>...</td>\n",
       "      <td>...</td>\n",
       "      <td>...</td>\n",
       "      <td>...</td>\n",
       "      <td>...</td>\n",
       "      <td>...</td>\n",
       "      <td>...</td>\n",
       "      <td>...</td>\n",
       "      <td>...</td>\n",
       "      <td>...</td>\n",
       "      <td>...</td>\n",
       "      <td>...</td>\n",
       "      <td>...</td>\n",
       "    </tr>\n",
       "    <tr>\n",
       "      <th>17522</th>\n",
       "      <td>586000</td>\n",
       "      <td>2005</td>\n",
       "      <td>313519.0</td>\n",
       "      <td>190.0</td>\n",
       "      <td>2.4</td>\n",
       "      <td>30</td>\n",
       "      <td>115</td>\n",
       "      <td>3</td>\n",
       "      <td>1</td>\n",
       "      <td>0</td>\n",
       "      <td>0</td>\n",
       "      <td>1</td>\n",
       "      <td>7</td>\n",
       "      <td>14</td>\n",
       "    </tr>\n",
       "    <tr>\n",
       "      <th>17523</th>\n",
       "      <td>105000</td>\n",
       "      <td>1993</td>\n",
       "      <td>294500.0</td>\n",
       "      <td>90.0</td>\n",
       "      <td>2.0</td>\n",
       "      <td>2</td>\n",
       "      <td>93</td>\n",
       "      <td>2</td>\n",
       "      <td>1</td>\n",
       "      <td>0</td>\n",
       "      <td>2</td>\n",
       "      <td>1</td>\n",
       "      <td>7</td>\n",
       "      <td>5</td>\n",
       "    </tr>\n",
       "    <tr>\n",
       "      <th>17524</th>\n",
       "      <td>60000</td>\n",
       "      <td>2006</td>\n",
       "      <td>150000.0</td>\n",
       "      <td>81.0</td>\n",
       "      <td>1.6</td>\n",
       "      <td>74</td>\n",
       "      <td>25</td>\n",
       "      <td>3</td>\n",
       "      <td>0</td>\n",
       "      <td>0</td>\n",
       "      <td>2</td>\n",
       "      <td>1</td>\n",
       "      <td>8</td>\n",
       "      <td>16</td>\n",
       "    </tr>\n",
       "    <tr>\n",
       "      <th>17525</th>\n",
       "      <td>1515000</td>\n",
       "      <td>2014</td>\n",
       "      <td>100156.0</td>\n",
       "      <td>197.0</td>\n",
       "      <td>2.2</td>\n",
       "      <td>32</td>\n",
       "      <td>376</td>\n",
       "      <td>1</td>\n",
       "      <td>1</td>\n",
       "      <td>3</td>\n",
       "      <td>0</td>\n",
       "      <td>2</td>\n",
       "      <td>0</td>\n",
       "      <td>16</td>\n",
       "    </tr>\n",
       "    <tr>\n",
       "      <th>17526</th>\n",
       "      <td>3094000</td>\n",
       "      <td>2018</td>\n",
       "      <td>102650.0</td>\n",
       "      <td>249.0</td>\n",
       "      <td>3.0</td>\n",
       "      <td>4</td>\n",
       "      <td>82</td>\n",
       "      <td>2</td>\n",
       "      <td>1</td>\n",
       "      <td>3</td>\n",
       "      <td>0</td>\n",
       "      <td>2</td>\n",
       "      <td>3</td>\n",
       "      <td>14</td>\n",
       "    </tr>\n",
       "  </tbody>\n",
       "</table>\n",
       "<p>542 rows × 14 columns</p>\n",
       "</div>"
      ],
      "text/plain": [
       "         Price  Release_Year   Mileage  Power  Engine_capacity  Mark_cat  \\\n",
       "16976   387000          2002  322895.0  125.0              1.7        30   \n",
       "16977   300000          2003  130000.0  231.0              1.3        48   \n",
       "16978   385000          2011  140000.0   84.0              1.2        10   \n",
       "16979   180000          1995  220000.0  136.0              2.2        53   \n",
       "16980  1199000          2013  109100.0  294.0              3.5        22   \n",
       "...        ...           ...       ...    ...              ...       ...   \n",
       "17522   586000          2005  313519.0  190.0              2.4        30   \n",
       "17523   105000          1993  294500.0   90.0              2.0         2   \n",
       "17524    60000          2006  150000.0   81.0              1.6        74   \n",
       "17525  1515000          2014  100156.0  197.0              2.2        32   \n",
       "17526  3094000          2018  102650.0  249.0              3.0         4   \n",
       "\n",
       "       Model_cat  Owners_cat  Status_cat  Engine_type_cat  Transmission_cat  \\\n",
       "16976        698           3           1                0                 2   \n",
       "16977        608           3           1                0                 2   \n",
       "16978        144           1           1                0                 2   \n",
       "16979        329           3           1                0                 2   \n",
       "16980        305           0           1                0                 0   \n",
       "...          ...         ...         ...              ...               ...   \n",
       "17522        115           3           1                0                 0   \n",
       "17523         93           2           1                0                 2   \n",
       "17524         25           3           0                0                 2   \n",
       "17525        376           1           1                3                 0   \n",
       "17526         82           2           1                3                 0   \n",
       "\n",
       "       Drive_cat  Body_type_cat  Color_cat  \n",
       "16976          1              5         12  \n",
       "16977          0              2          4  \n",
       "16978          1              7         16  \n",
       "16979          2              0         13  \n",
       "16980          2              0          1  \n",
       "...          ...            ...        ...  \n",
       "17522          1              7         14  \n",
       "17523          1              7          5  \n",
       "17524          1              8         16  \n",
       "17525          2              0         16  \n",
       "17526          2              3         14  \n",
       "\n",
       "[542 rows x 14 columns]"
      ]
     },
     "execution_count": 19,
     "metadata": {},
     "output_type": "execute_result"
    }
   ],
   "source": [
    "test_split_data = parsed_data.iloc[16800:]\n",
    "test_split_data"
   ]
  },
  {
   "cell_type": "code",
   "execution_count": 20,
   "id": "eef0f6a5",
   "metadata": {},
   "outputs": [
    {
     "data": {
      "text/html": [
       "<div>\n",
       "<style scoped>\n",
       "    .dataframe tbody tr th:only-of-type {\n",
       "        vertical-align: middle;\n",
       "    }\n",
       "\n",
       "    .dataframe tbody tr th {\n",
       "        vertical-align: top;\n",
       "    }\n",
       "\n",
       "    .dataframe thead th {\n",
       "        text-align: right;\n",
       "    }\n",
       "</style>\n",
       "<table border=\"1\" class=\"dataframe\">\n",
       "  <thead>\n",
       "    <tr style=\"text-align: right;\">\n",
       "      <th></th>\n",
       "      <th>Price</th>\n",
       "      <th>Release_Year</th>\n",
       "      <th>Mileage</th>\n",
       "      <th>Power</th>\n",
       "      <th>Engine_capacity</th>\n",
       "      <th>Mark_cat</th>\n",
       "      <th>Model_cat</th>\n",
       "      <th>Owners_cat</th>\n",
       "      <th>Status_cat</th>\n",
       "      <th>Engine_type_cat</th>\n",
       "      <th>Transmission_cat</th>\n",
       "      <th>Drive_cat</th>\n",
       "      <th>Body_type_cat</th>\n",
       "      <th>Color_cat</th>\n",
       "    </tr>\n",
       "  </thead>\n",
       "  <tbody>\n",
       "    <tr>\n",
       "      <th>0</th>\n",
       "      <td>90000</td>\n",
       "      <td>2001</td>\n",
       "      <td>255000.0</td>\n",
       "      <td>94.0</td>\n",
       "      <td>1.5</td>\n",
       "      <td>74</td>\n",
       "      <td>24</td>\n",
       "      <td>3</td>\n",
       "      <td>1</td>\n",
       "      <td>0</td>\n",
       "      <td>2</td>\n",
       "      <td>1</td>\n",
       "      <td>7</td>\n",
       "      <td>14</td>\n",
       "    </tr>\n",
       "    <tr>\n",
       "      <th>1</th>\n",
       "      <td>563500</td>\n",
       "      <td>2014</td>\n",
       "      <td>170000.0</td>\n",
       "      <td>102.0</td>\n",
       "      <td>1.6</td>\n",
       "      <td>51</td>\n",
       "      <td>121</td>\n",
       "      <td>0</td>\n",
       "      <td>1</td>\n",
       "      <td>0</td>\n",
       "      <td>2</td>\n",
       "      <td>1</td>\n",
       "      <td>7</td>\n",
       "      <td>1</td>\n",
       "    </tr>\n",
       "    <tr>\n",
       "      <th>2</th>\n",
       "      <td>1800000</td>\n",
       "      <td>2022</td>\n",
       "      <td>2670.0</td>\n",
       "      <td>128.0</td>\n",
       "      <td>1.6</td>\n",
       "      <td>40</td>\n",
       "      <td>219</td>\n",
       "      <td>0</td>\n",
       "      <td>1</td>\n",
       "      <td>0</td>\n",
       "      <td>0</td>\n",
       "      <td>1</td>\n",
       "      <td>10</td>\n",
       "      <td>12</td>\n",
       "    </tr>\n",
       "    <tr>\n",
       "      <th>3</th>\n",
       "      <td>3999000</td>\n",
       "      <td>2022</td>\n",
       "      <td>5000.0</td>\n",
       "      <td>177.0</td>\n",
       "      <td>2.2</td>\n",
       "      <td>32</td>\n",
       "      <td>691</td>\n",
       "      <td>0</td>\n",
       "      <td>1</td>\n",
       "      <td>3</td>\n",
       "      <td>0</td>\n",
       "      <td>1</td>\n",
       "      <td>5</td>\n",
       "      <td>13</td>\n",
       "    </tr>\n",
       "    <tr>\n",
       "      <th>4</th>\n",
       "      <td>79000</td>\n",
       "      <td>2007</td>\n",
       "      <td>164000.0</td>\n",
       "      <td>81.0</td>\n",
       "      <td>1.6</td>\n",
       "      <td>74</td>\n",
       "      <td>28</td>\n",
       "      <td>2</td>\n",
       "      <td>1</td>\n",
       "      <td>0</td>\n",
       "      <td>2</td>\n",
       "      <td>1</td>\n",
       "      <td>10</td>\n",
       "      <td>12</td>\n",
       "    </tr>\n",
       "    <tr>\n",
       "      <th>...</th>\n",
       "      <td>...</td>\n",
       "      <td>...</td>\n",
       "      <td>...</td>\n",
       "      <td>...</td>\n",
       "      <td>...</td>\n",
       "      <td>...</td>\n",
       "      <td>...</td>\n",
       "      <td>...</td>\n",
       "      <td>...</td>\n",
       "      <td>...</td>\n",
       "      <td>...</td>\n",
       "      <td>...</td>\n",
       "      <td>...</td>\n",
       "      <td>...</td>\n",
       "    </tr>\n",
       "    <tr>\n",
       "      <th>16970</th>\n",
       "      <td>685000</td>\n",
       "      <td>2012</td>\n",
       "      <td>109000.0</td>\n",
       "      <td>141.0</td>\n",
       "      <td>1.8</td>\n",
       "      <td>10</td>\n",
       "      <td>255</td>\n",
       "      <td>1</td>\n",
       "      <td>1</td>\n",
       "      <td>0</td>\n",
       "      <td>0</td>\n",
       "      <td>1</td>\n",
       "      <td>10</td>\n",
       "      <td>16</td>\n",
       "    </tr>\n",
       "    <tr>\n",
       "      <th>16971</th>\n",
       "      <td>230000</td>\n",
       "      <td>2010</td>\n",
       "      <td>138651.0</td>\n",
       "      <td>81.0</td>\n",
       "      <td>1.6</td>\n",
       "      <td>74</td>\n",
       "      <td>430</td>\n",
       "      <td>1</td>\n",
       "      <td>1</td>\n",
       "      <td>0</td>\n",
       "      <td>2</td>\n",
       "      <td>1</td>\n",
       "      <td>10</td>\n",
       "      <td>0</td>\n",
       "    </tr>\n",
       "    <tr>\n",
       "      <th>16972</th>\n",
       "      <td>650000</td>\n",
       "      <td>2010</td>\n",
       "      <td>55000.0</td>\n",
       "      <td>150.0</td>\n",
       "      <td>2.0</td>\n",
       "      <td>30</td>\n",
       "      <td>254</td>\n",
       "      <td>0</td>\n",
       "      <td>1</td>\n",
       "      <td>0</td>\n",
       "      <td>0</td>\n",
       "      <td>1</td>\n",
       "      <td>0</td>\n",
       "      <td>16</td>\n",
       "    </tr>\n",
       "    <tr>\n",
       "      <th>16973</th>\n",
       "      <td>720000</td>\n",
       "      <td>2011</td>\n",
       "      <td>227000.0</td>\n",
       "      <td>110.0</td>\n",
       "      <td>1.5</td>\n",
       "      <td>58</td>\n",
       "      <td>450</td>\n",
       "      <td>2</td>\n",
       "      <td>1</td>\n",
       "      <td>3</td>\n",
       "      <td>2</td>\n",
       "      <td>1</td>\n",
       "      <td>3</td>\n",
       "      <td>13</td>\n",
       "    </tr>\n",
       "    <tr>\n",
       "      <th>16974</th>\n",
       "      <td>429999</td>\n",
       "      <td>2010</td>\n",
       "      <td>166023.0</td>\n",
       "      <td>115.0</td>\n",
       "      <td>1.6</td>\n",
       "      <td>53</td>\n",
       "      <td>133</td>\n",
       "      <td>3</td>\n",
       "      <td>1</td>\n",
       "      <td>0</td>\n",
       "      <td>2</td>\n",
       "      <td>1</td>\n",
       "      <td>10</td>\n",
       "      <td>13</td>\n",
       "    </tr>\n",
       "  </tbody>\n",
       "</table>\n",
       "<p>16799 rows × 14 columns</p>\n",
       "</div>"
      ],
      "text/plain": [
       "         Price  Release_Year   Mileage  Power  Engine_capacity  Mark_cat  \\\n",
       "0        90000          2001  255000.0   94.0              1.5        74   \n",
       "1       563500          2014  170000.0  102.0              1.6        51   \n",
       "2      1800000          2022    2670.0  128.0              1.6        40   \n",
       "3      3999000          2022    5000.0  177.0              2.2        32   \n",
       "4        79000          2007  164000.0   81.0              1.6        74   \n",
       "...        ...           ...       ...    ...              ...       ...   \n",
       "16970   685000          2012  109000.0  141.0              1.8        10   \n",
       "16971   230000          2010  138651.0   81.0              1.6        74   \n",
       "16972   650000          2010   55000.0  150.0              2.0        30   \n",
       "16973   720000          2011  227000.0  110.0              1.5        58   \n",
       "16974   429999          2010  166023.0  115.0              1.6        53   \n",
       "\n",
       "       Model_cat  Owners_cat  Status_cat  Engine_type_cat  Transmission_cat  \\\n",
       "0             24           3           1                0                 2   \n",
       "1            121           0           1                0                 2   \n",
       "2            219           0           1                0                 0   \n",
       "3            691           0           1                3                 0   \n",
       "4             28           2           1                0                 2   \n",
       "...          ...         ...         ...              ...               ...   \n",
       "16970        255           1           1                0                 0   \n",
       "16971        430           1           1                0                 2   \n",
       "16972        254           0           1                0                 0   \n",
       "16973        450           2           1                3                 2   \n",
       "16974        133           3           1                0                 2   \n",
       "\n",
       "       Drive_cat  Body_type_cat  Color_cat  \n",
       "0              1              7         14  \n",
       "1              1              7          1  \n",
       "2              1             10         12  \n",
       "3              1              5         13  \n",
       "4              1             10         12  \n",
       "...          ...            ...        ...  \n",
       "16970          1             10         16  \n",
       "16971          1             10          0  \n",
       "16972          1              0         16  \n",
       "16973          1              3         13  \n",
       "16974          1             10         13  \n",
       "\n",
       "[16799 rows x 14 columns]"
      ]
     },
     "execution_count": 20,
     "metadata": {},
     "output_type": "execute_result"
    }
   ],
   "source": [
    "parsed_data = parsed_data.iloc[:16799]\n",
    "parsed_data"
   ]
  },
  {
   "cell_type": "markdown",
   "id": "da8436d7",
   "metadata": {},
   "source": [
    "**Шаг 2.5. Работаем с целевой переменной**\n",
    "\n",
    "*Какая переменная целевая?*\n",
    "\n",
    "В данном случае по условию задачи мы должны прогнозировать стоимость автомобиля, поэтому целевая переменная - это price. "
   ]
  },
  {
   "cell_type": "markdown",
   "id": "99afdaea",
   "metadata": {},
   "source": [
    "Нам нужно выделить в отдельную переменную *training_values* столбец из нашей таблицы, который соответствует определенной выше целевой переменной. "
   ]
  },
  {
   "cell_type": "code",
   "execution_count": 21,
   "id": "8fc4a01b",
   "metadata": {},
   "outputs": [],
   "source": [
    "training_values = parsed_data['Price']"
   ]
  },
  {
   "cell_type": "markdown",
   "id": "7ca83c50",
   "metadata": {},
   "source": [
    "Отделим входные переменные от выходной (целевой), чтобы можно было построить модель предсказания целевой переменной по входным. \n",
    "Для это нужно у переменной *parsed_data* вызвать метод **drop()**. \n",
    "   axis=1 - означает, что мы удаляем столбец, а в случае axis=0 - означает, что мы удаляем строку"
   ]
  },
  {
   "cell_type": "code",
   "execution_count": 22,
   "id": "b76f59c8",
   "metadata": {},
   "outputs": [],
   "source": [
    "training_points = parsed_data.drop('Price', axis=1)"
   ]
  },
  {
   "cell_type": "markdown",
   "id": "344b8ff4",
   "metadata": {},
   "source": [
    "Можно посмотреть результаты этих действий, вызвав метод **head()** и поле **shape**, которыми мы пользовались ранее, но сейчас нужно вызывать их от новой переменной *training_points*."
   ]
  },
  {
   "cell_type": "code",
   "execution_count": 23,
   "id": "f1a0692e",
   "metadata": {},
   "outputs": [
    {
     "data": {
      "text/html": [
       "<div>\n",
       "<style scoped>\n",
       "    .dataframe tbody tr th:only-of-type {\n",
       "        vertical-align: middle;\n",
       "    }\n",
       "\n",
       "    .dataframe tbody tr th {\n",
       "        vertical-align: top;\n",
       "    }\n",
       "\n",
       "    .dataframe thead th {\n",
       "        text-align: right;\n",
       "    }\n",
       "</style>\n",
       "<table border=\"1\" class=\"dataframe\">\n",
       "  <thead>\n",
       "    <tr style=\"text-align: right;\">\n",
       "      <th></th>\n",
       "      <th>Release_Year</th>\n",
       "      <th>Mileage</th>\n",
       "      <th>Power</th>\n",
       "      <th>Engine_capacity</th>\n",
       "      <th>Mark_cat</th>\n",
       "      <th>Model_cat</th>\n",
       "      <th>Owners_cat</th>\n",
       "      <th>Status_cat</th>\n",
       "      <th>Engine_type_cat</th>\n",
       "      <th>Transmission_cat</th>\n",
       "      <th>Drive_cat</th>\n",
       "      <th>Body_type_cat</th>\n",
       "      <th>Color_cat</th>\n",
       "    </tr>\n",
       "  </thead>\n",
       "  <tbody>\n",
       "    <tr>\n",
       "      <th>0</th>\n",
       "      <td>2001</td>\n",
       "      <td>255000.0</td>\n",
       "      <td>94.0</td>\n",
       "      <td>1.5</td>\n",
       "      <td>74</td>\n",
       "      <td>24</td>\n",
       "      <td>3</td>\n",
       "      <td>1</td>\n",
       "      <td>0</td>\n",
       "      <td>2</td>\n",
       "      <td>1</td>\n",
       "      <td>7</td>\n",
       "      <td>14</td>\n",
       "    </tr>\n",
       "    <tr>\n",
       "      <th>1</th>\n",
       "      <td>2014</td>\n",
       "      <td>170000.0</td>\n",
       "      <td>102.0</td>\n",
       "      <td>1.6</td>\n",
       "      <td>51</td>\n",
       "      <td>121</td>\n",
       "      <td>0</td>\n",
       "      <td>1</td>\n",
       "      <td>0</td>\n",
       "      <td>2</td>\n",
       "      <td>1</td>\n",
       "      <td>7</td>\n",
       "      <td>1</td>\n",
       "    </tr>\n",
       "    <tr>\n",
       "      <th>2</th>\n",
       "      <td>2022</td>\n",
       "      <td>2670.0</td>\n",
       "      <td>128.0</td>\n",
       "      <td>1.6</td>\n",
       "      <td>40</td>\n",
       "      <td>219</td>\n",
       "      <td>0</td>\n",
       "      <td>1</td>\n",
       "      <td>0</td>\n",
       "      <td>0</td>\n",
       "      <td>1</td>\n",
       "      <td>10</td>\n",
       "      <td>12</td>\n",
       "    </tr>\n",
       "    <tr>\n",
       "      <th>3</th>\n",
       "      <td>2022</td>\n",
       "      <td>5000.0</td>\n",
       "      <td>177.0</td>\n",
       "      <td>2.2</td>\n",
       "      <td>32</td>\n",
       "      <td>691</td>\n",
       "      <td>0</td>\n",
       "      <td>1</td>\n",
       "      <td>3</td>\n",
       "      <td>0</td>\n",
       "      <td>1</td>\n",
       "      <td>5</td>\n",
       "      <td>13</td>\n",
       "    </tr>\n",
       "    <tr>\n",
       "      <th>4</th>\n",
       "      <td>2007</td>\n",
       "      <td>164000.0</td>\n",
       "      <td>81.0</td>\n",
       "      <td>1.6</td>\n",
       "      <td>74</td>\n",
       "      <td>28</td>\n",
       "      <td>2</td>\n",
       "      <td>1</td>\n",
       "      <td>0</td>\n",
       "      <td>2</td>\n",
       "      <td>1</td>\n",
       "      <td>10</td>\n",
       "      <td>12</td>\n",
       "    </tr>\n",
       "  </tbody>\n",
       "</table>\n",
       "</div>"
      ],
      "text/plain": [
       "   Release_Year   Mileage  Power  Engine_capacity  Mark_cat  Model_cat  \\\n",
       "0          2001  255000.0   94.0              1.5        74         24   \n",
       "1          2014  170000.0  102.0              1.6        51        121   \n",
       "2          2022    2670.0  128.0              1.6        40        219   \n",
       "3          2022    5000.0  177.0              2.2        32        691   \n",
       "4          2007  164000.0   81.0              1.6        74         28   \n",
       "\n",
       "   Owners_cat  Status_cat  Engine_type_cat  Transmission_cat  Drive_cat  \\\n",
       "0           3           1                0                 2          1   \n",
       "1           0           1                0                 2          1   \n",
       "2           0           1                0                 0          1   \n",
       "3           0           1                3                 0          1   \n",
       "4           2           1                0                 2          1   \n",
       "\n",
       "   Body_type_cat  Color_cat  \n",
       "0              7         14  \n",
       "1              7          1  \n",
       "2             10         12  \n",
       "3              5         13  \n",
       "4             10         12  "
      ]
     },
     "execution_count": 23,
     "metadata": {},
     "output_type": "execute_result"
    }
   ],
   "source": [
    "training_points.head()"
   ]
  },
  {
   "cell_type": "code",
   "execution_count": 24,
   "id": "59a787b0",
   "metadata": {},
   "outputs": [
    {
     "data": {
      "text/plain": [
       "(16799, 13)"
      ]
     },
     "execution_count": 24,
     "metadata": {},
     "output_type": "execute_result"
    }
   ],
   "source": [
    "training_points.shape"
   ]
  },
  {
   "cell_type": "markdown",
   "id": "7cf2692c",
   "metadata": {},
   "source": [
    "##   3. Обучить модель на обучающей выборке"
   ]
  },
  {
   "cell_type": "markdown",
   "id": "34ba3bd8",
   "metadata": {},
   "source": [
    "**Шаг 3.1. Выбираем метод, который будем использовать**\n",
    "\n",
    "Проще всего начать с простых методов. \n",
    "Мы воспользуемся двумя методами для построения моделей и сравним их между собой:\n",
    "* Линейная регрессия *linear regression*\n",
    "* Лес решающих деревьев *random forest*\n",
    "\n",
    "На выбор метода для построения модели влияет набор признаков, размер выборки, интуиция про то, какая связь между входными переменными и целевой. Но часто решение принимается исходя из того, какая модель сработала лучше."
   ]
  },
  {
   "cell_type": "markdown",
   "id": "59f3cd5a",
   "metadata": {},
   "source": [
    "Для корректной работы с методами построения моделей в python требуется загрузить специальную библиотеку\n",
    "**sklearn**, программную библиотеку на языке python для для машинного обучения и анализа данных.\n",
    "\n",
    "Мы импортируем два модуля из этой библиотеки:\n",
    " * *linear_model* - тут находятся все линейные модели\n",
    " * *ensemble* - тут находятся модели на основе ансамблей"
   ]
  },
  {
   "cell_type": "code",
   "execution_count": 25,
   "id": "cbff45b4",
   "metadata": {},
   "outputs": [],
   "source": [
    "from sklearn import linear_model, ensemble"
   ]
  },
  {
   "cell_type": "markdown",
   "id": "a5b8f91d",
   "metadata": {},
   "source": [
    "Прежде чем начать делать ремонт, нужно подготовить инструменты для работы. Аналогично в нашем случае, прежде чем обучать модели, нужно создать их прототипы.  \n",
    "Чтобы создать модель линейной регресии, пишем имя модуля 'linear_model', затем точку, затем название модели."
   ]
  },
  {
   "cell_type": "code",
   "execution_count": 26,
   "id": "19f0208d",
   "metadata": {},
   "outputs": [],
   "source": [
    "linear_regression_model = linear_model.LinearRegression() # создаем модель"
   ]
  },
  {
   "cell_type": "markdown",
   "id": "57104178",
   "metadata": {},
   "source": [
    "Чтобы создать модель случайного леса, пишем имя модуля ensemble, затем точку, затем название модели. \n",
    "Обратите внимание, что для воспроизводимости результата на разных компьютерах необходимо для всех зафиксировать один параметр random_state. Например, можно установить для него значение 123. "
   ]
  },
  {
   "cell_type": "code",
   "execution_count": 27,
   "id": "96374601",
   "metadata": {},
   "outputs": [],
   "source": [
    "random_forest_model = ensemble.RandomForestRegressor(random_state=123)"
   ]
  },
  {
   "cell_type": "markdown",
   "id": "7f865e53",
   "metadata": {},
   "source": [
    "У модели на основе случайного леса больше параметров. Рассмотрим наиболее важные:\n",
    "* параметр *n_estimators* определяет, сколько деревьев в лесу,\n",
    "* в параметре *max_depth* устанавливается, какая максимальная глубина у дерева,\n",
    "* в параметре *min_samples_leaf* задается, какое максимальное число объектов может попасть в лист дерева."
   ]
  },
  {
   "cell_type": "markdown",
   "id": "645a5505",
   "metadata": {},
   "source": [
    "Так как у модели на основе случайного решающего леса больше параметров, такая модель обычно обучается медленнее.\n",
    "Кроме этого, на время обучения влияют значения параметров модели. Например, чем больше деревьев в лесе - тем дольше модель будет учиться."
   ]
  },
  {
   "cell_type": "markdown",
   "id": "b8fe0e23",
   "metadata": {},
   "source": [
    "**Шаг 3.2. Обучить модель**\n",
    "\n",
    "Теперь, когда мы создали прототипы обеих моделей, можем их обучить с помощью обучающей выборки. \n",
    "\n",
    "Для этого вызываем метод **fit()** у каждой модели и передаем ему на вход два аргумента: \n",
    "таблицу входных признаков и столбец значений целевой переменной - (training_points, training_values)"
   ]
  },
  {
   "cell_type": "code",
   "execution_count": 28,
   "id": "11ad881f",
   "metadata": {},
   "outputs": [
    {
     "data": {
      "text/plain": [
       "LinearRegression()"
      ]
     },
     "execution_count": 28,
     "metadata": {},
     "output_type": "execute_result"
    }
   ],
   "source": [
    "linear_regression_model.fit(training_points, training_values)"
   ]
  },
  {
   "cell_type": "markdown",
   "id": "ba7b2f65",
   "metadata": {},
   "source": [
    "Делаем тоже самое для модели решающего леса."
   ]
  },
  {
   "cell_type": "code",
   "execution_count": 29,
   "id": "da87dcb3",
   "metadata": {},
   "outputs": [
    {
     "data": {
      "text/plain": [
       "RandomForestRegressor(random_state=123)"
      ]
     },
     "execution_count": 29,
     "metadata": {},
     "output_type": "execute_result"
    }
   ],
   "source": [
    "random_forest_model.fit(training_points, training_values)"
   ]
  },
  {
   "cell_type": "markdown",
   "id": "3bf57626",
   "metadata": {},
   "source": [
    "* Для двух разных моделей в sklearn методы для обучения модели не отличаются.\n",
    "* Мы получили две обученные модели. \n",
    "* Теперь необходимо провалидировать модели на новых тестовых данных. "
   ]
  },
  {
   "cell_type": "markdown",
   "id": "828ca343",
   "metadata": {},
   "source": [
    "## 4. Загрузить и предобработать данные для тестирования"
   ]
  },
  {
   "cell_type": "markdown",
   "id": "c4e5234b",
   "metadata": {},
   "source": [
    "**Шаг 4.1. Загрузим и проанализируем тестовые данные.**\n",
    "\n",
    "Так как данные в формате xlsx (Excel), мы будем использовать специальную функцию\n",
    "из библиотеки pandas для загрузки таких данных **read_excel**.\n",
    "\n",
    "В функции передаем один атрибут: название файла, в котором находится таблица с данными."
   ]
  },
  {
   "cell_type": "code",
   "execution_count": 30,
   "id": "266ce760",
   "metadata": {},
   "outputs": [],
   "source": [
    "# test_data = pd.read_excel('parsed_test.xlsx', usecols=lambda x: 'Unnamed' not in x)"
   ]
  },
  {
   "cell_type": "markdown",
   "id": "04ae3624",
   "metadata": {},
   "source": [
    "*Что важно посмотреть, после того, как мы загрузили данные?*\n",
    "\n",
    "- проверить, что данные действительно загрузились\n",
    "- посмотреть на данные, чтобы удостовериться, что они правильные: колонки имеют те же названия, что и в таблице и т.д.\n"
   ]
  },
  {
   "cell_type": "code",
   "execution_count": 31,
   "id": "bdcad976",
   "metadata": {},
   "outputs": [],
   "source": [
    "# test_data.head()"
   ]
  },
  {
   "cell_type": "code",
   "execution_count": 32,
   "id": "3b91cd7e",
   "metadata": {},
   "outputs": [
    {
     "data": {
      "text/plain": [
       "(542, 14)"
      ]
     },
     "execution_count": 32,
     "metadata": {},
     "output_type": "execute_result"
    }
   ],
   "source": [
    "test_split_data.shape"
   ]
  },
  {
   "cell_type": "code",
   "execution_count": 33,
   "id": "bf8f5dc8",
   "metadata": {},
   "outputs": [],
   "source": [
    "# test_data['Mark_cat'] = test_data['Mark'].astype('category').cat.codes\n",
    "# test_data['Model_cat'] = test_data['Model'].astype('category').cat.codes\n",
    "# test_data['Owners_cat'] = test_data['Owners'].astype('category').cat.codes\n",
    "# test_data['Status_cat'] = test_data['Status'].astype('category').cat.codes\n",
    "# test_data['Engine_type_cat'] = test_data['Engine_type'].astype('category').cat.codes\n",
    "# test_data['Transmission_cat'] = test_data['Transmission'].astype('category').cat.codes\n",
    "# test_data['Drive_cat'] = test_data['Drive'].astype('category').cat.codes\n",
    "# test_data['Body_type_cat'] = test_data['Body_type'].astype('category').cat.codes\n",
    "# test_data['Color_cat'] = test_data['Color'].astype('category').cat.codes\n"
   ]
  },
  {
   "cell_type": "code",
   "execution_count": 34,
   "id": "bd5e5736",
   "metadata": {},
   "outputs": [
    {
     "data": {
      "text/html": [
       "<div>\n",
       "<style scoped>\n",
       "    .dataframe tbody tr th:only-of-type {\n",
       "        vertical-align: middle;\n",
       "    }\n",
       "\n",
       "    .dataframe tbody tr th {\n",
       "        vertical-align: top;\n",
       "    }\n",
       "\n",
       "    .dataframe thead th {\n",
       "        text-align: right;\n",
       "    }\n",
       "</style>\n",
       "<table border=\"1\" class=\"dataframe\">\n",
       "  <thead>\n",
       "    <tr style=\"text-align: right;\">\n",
       "      <th></th>\n",
       "      <th>Price</th>\n",
       "      <th>Release_Year</th>\n",
       "      <th>Mileage</th>\n",
       "      <th>Power</th>\n",
       "      <th>Engine_capacity</th>\n",
       "      <th>Mark_cat</th>\n",
       "      <th>Model_cat</th>\n",
       "      <th>Owners_cat</th>\n",
       "      <th>Status_cat</th>\n",
       "      <th>Engine_type_cat</th>\n",
       "      <th>Transmission_cat</th>\n",
       "      <th>Drive_cat</th>\n",
       "      <th>Body_type_cat</th>\n",
       "      <th>Color_cat</th>\n",
       "    </tr>\n",
       "  </thead>\n",
       "  <tbody>\n",
       "    <tr>\n",
       "      <th>16976</th>\n",
       "      <td>387000</td>\n",
       "      <td>2002</td>\n",
       "      <td>322895.0</td>\n",
       "      <td>125.0</td>\n",
       "      <td>1.7</td>\n",
       "      <td>30</td>\n",
       "      <td>698</td>\n",
       "      <td>3</td>\n",
       "      <td>1</td>\n",
       "      <td>0</td>\n",
       "      <td>2</td>\n",
       "      <td>1</td>\n",
       "      <td>5</td>\n",
       "      <td>12</td>\n",
       "    </tr>\n",
       "    <tr>\n",
       "      <th>16977</th>\n",
       "      <td>300000</td>\n",
       "      <td>2003</td>\n",
       "      <td>130000.0</td>\n",
       "      <td>231.0</td>\n",
       "      <td>1.3</td>\n",
       "      <td>48</td>\n",
       "      <td>608</td>\n",
       "      <td>3</td>\n",
       "      <td>1</td>\n",
       "      <td>0</td>\n",
       "      <td>2</td>\n",
       "      <td>0</td>\n",
       "      <td>2</td>\n",
       "      <td>4</td>\n",
       "    </tr>\n",
       "    <tr>\n",
       "      <th>16978</th>\n",
       "      <td>385000</td>\n",
       "      <td>2011</td>\n",
       "      <td>140000.0</td>\n",
       "      <td>84.0</td>\n",
       "      <td>1.2</td>\n",
       "      <td>10</td>\n",
       "      <td>144</td>\n",
       "      <td>1</td>\n",
       "      <td>1</td>\n",
       "      <td>0</td>\n",
       "      <td>2</td>\n",
       "      <td>1</td>\n",
       "      <td>7</td>\n",
       "      <td>16</td>\n",
       "    </tr>\n",
       "    <tr>\n",
       "      <th>16979</th>\n",
       "      <td>180000</td>\n",
       "      <td>1995</td>\n",
       "      <td>220000.0</td>\n",
       "      <td>136.0</td>\n",
       "      <td>2.2</td>\n",
       "      <td>53</td>\n",
       "      <td>329</td>\n",
       "      <td>3</td>\n",
       "      <td>1</td>\n",
       "      <td>0</td>\n",
       "      <td>2</td>\n",
       "      <td>2</td>\n",
       "      <td>0</td>\n",
       "      <td>13</td>\n",
       "    </tr>\n",
       "    <tr>\n",
       "      <th>16980</th>\n",
       "      <td>1199000</td>\n",
       "      <td>2013</td>\n",
       "      <td>109100.0</td>\n",
       "      <td>294.0</td>\n",
       "      <td>3.5</td>\n",
       "      <td>22</td>\n",
       "      <td>305</td>\n",
       "      <td>0</td>\n",
       "      <td>1</td>\n",
       "      <td>0</td>\n",
       "      <td>0</td>\n",
       "      <td>2</td>\n",
       "      <td>0</td>\n",
       "      <td>1</td>\n",
       "    </tr>\n",
       "  </tbody>\n",
       "</table>\n",
       "</div>"
      ],
      "text/plain": [
       "         Price  Release_Year   Mileage  Power  Engine_capacity  Mark_cat  \\\n",
       "16976   387000          2002  322895.0  125.0              1.7        30   \n",
       "16977   300000          2003  130000.0  231.0              1.3        48   \n",
       "16978   385000          2011  140000.0   84.0              1.2        10   \n",
       "16979   180000          1995  220000.0  136.0              2.2        53   \n",
       "16980  1199000          2013  109100.0  294.0              3.5        22   \n",
       "\n",
       "       Model_cat  Owners_cat  Status_cat  Engine_type_cat  Transmission_cat  \\\n",
       "16976        698           3           1                0                 2   \n",
       "16977        608           3           1                0                 2   \n",
       "16978        144           1           1                0                 2   \n",
       "16979        329           3           1                0                 2   \n",
       "16980        305           0           1                0                 0   \n",
       "\n",
       "       Drive_cat  Body_type_cat  Color_cat  \n",
       "16976          1              5         12  \n",
       "16977          0              2          4  \n",
       "16978          1              7         16  \n",
       "16979          2              0         13  \n",
       "16980          2              0          1  "
      ]
     },
     "execution_count": 34,
     "metadata": {},
     "output_type": "execute_result"
    }
   ],
   "source": [
    "test_split_data.head()"
   ]
  },
  {
   "cell_type": "markdown",
   "id": "a65849ad",
   "metadata": {},
   "source": [
    "**Шаг 4.2. Отделяем целевую переменную**"
   ]
  },
  {
   "cell_type": "markdown",
   "id": "9d5bee1c",
   "metadata": {},
   "source": [
    "Нам нужно выделить в отдельную переменную *test_values* столбец из нашей таблицы, который соответствует определенной выше целевой переменной. Для этого мы у таблицы *test_data* в квадратных скобках указываем имя нужного столбца. В нашем случае это имя записано в переменной *target_variable_name*. "
   ]
  },
  {
   "cell_type": "code",
   "execution_count": 35,
   "id": "1105e826",
   "metadata": {},
   "outputs": [],
   "source": [
    "test_values = test_split_data['Price']"
   ]
  },
  {
   "cell_type": "markdown",
   "id": "263fdb09",
   "metadata": {},
   "source": [
    "Отделим входные переменные от выходной (целевой), чтобы можно было построить модель предсказания целевой переменной по входным. \n",
    "Для это нужно у переменной *test_data* вызвать метод **drop()**. Результат мы записываем в новую переменную *test_points*. После выполнения запроса *test_points* будет содержать исходную таблицу без целевого столбца. \n",
    "\n",
    "Обратите внимание, что в данном случае мы передаем два аргумента:\n",
    "    1. target_variable_name - название столбца цены, который мы ранее записали в эту переменную и теперь хотим удалить из training_data\n",
    "    2. axis=1 - означает, что мы удаляем столбец, а в случае axis=0 - означает, что мы удаляем строку"
   ]
  },
  {
   "cell_type": "code",
   "execution_count": 36,
   "id": "46d07dc4",
   "metadata": {},
   "outputs": [],
   "source": [
    "test_points = test_split_data.drop('Price', axis=1)"
   ]
  },
  {
   "cell_type": "markdown",
   "id": "56782a69",
   "metadata": {},
   "source": [
    "И проверяем результат записанный в test_points:"
   ]
  },
  {
   "cell_type": "code",
   "execution_count": 37,
   "id": "e332dc3b",
   "metadata": {},
   "outputs": [
    {
     "data": {
      "text/html": [
       "<div>\n",
       "<style scoped>\n",
       "    .dataframe tbody tr th:only-of-type {\n",
       "        vertical-align: middle;\n",
       "    }\n",
       "\n",
       "    .dataframe tbody tr th {\n",
       "        vertical-align: top;\n",
       "    }\n",
       "\n",
       "    .dataframe thead th {\n",
       "        text-align: right;\n",
       "    }\n",
       "</style>\n",
       "<table border=\"1\" class=\"dataframe\">\n",
       "  <thead>\n",
       "    <tr style=\"text-align: right;\">\n",
       "      <th></th>\n",
       "      <th>Release_Year</th>\n",
       "      <th>Mileage</th>\n",
       "      <th>Power</th>\n",
       "      <th>Engine_capacity</th>\n",
       "      <th>Mark_cat</th>\n",
       "      <th>Model_cat</th>\n",
       "      <th>Owners_cat</th>\n",
       "      <th>Status_cat</th>\n",
       "      <th>Engine_type_cat</th>\n",
       "      <th>Transmission_cat</th>\n",
       "      <th>Drive_cat</th>\n",
       "      <th>Body_type_cat</th>\n",
       "      <th>Color_cat</th>\n",
       "    </tr>\n",
       "  </thead>\n",
       "  <tbody>\n",
       "    <tr>\n",
       "      <th>16976</th>\n",
       "      <td>2002</td>\n",
       "      <td>322895.0</td>\n",
       "      <td>125.0</td>\n",
       "      <td>1.7</td>\n",
       "      <td>30</td>\n",
       "      <td>698</td>\n",
       "      <td>3</td>\n",
       "      <td>1</td>\n",
       "      <td>0</td>\n",
       "      <td>2</td>\n",
       "      <td>1</td>\n",
       "      <td>5</td>\n",
       "      <td>12</td>\n",
       "    </tr>\n",
       "    <tr>\n",
       "      <th>16977</th>\n",
       "      <td>2003</td>\n",
       "      <td>130000.0</td>\n",
       "      <td>231.0</td>\n",
       "      <td>1.3</td>\n",
       "      <td>48</td>\n",
       "      <td>608</td>\n",
       "      <td>3</td>\n",
       "      <td>1</td>\n",
       "      <td>0</td>\n",
       "      <td>2</td>\n",
       "      <td>0</td>\n",
       "      <td>2</td>\n",
       "      <td>4</td>\n",
       "    </tr>\n",
       "    <tr>\n",
       "      <th>16978</th>\n",
       "      <td>2011</td>\n",
       "      <td>140000.0</td>\n",
       "      <td>84.0</td>\n",
       "      <td>1.2</td>\n",
       "      <td>10</td>\n",
       "      <td>144</td>\n",
       "      <td>1</td>\n",
       "      <td>1</td>\n",
       "      <td>0</td>\n",
       "      <td>2</td>\n",
       "      <td>1</td>\n",
       "      <td>7</td>\n",
       "      <td>16</td>\n",
       "    </tr>\n",
       "    <tr>\n",
       "      <th>16979</th>\n",
       "      <td>1995</td>\n",
       "      <td>220000.0</td>\n",
       "      <td>136.0</td>\n",
       "      <td>2.2</td>\n",
       "      <td>53</td>\n",
       "      <td>329</td>\n",
       "      <td>3</td>\n",
       "      <td>1</td>\n",
       "      <td>0</td>\n",
       "      <td>2</td>\n",
       "      <td>2</td>\n",
       "      <td>0</td>\n",
       "      <td>13</td>\n",
       "    </tr>\n",
       "    <tr>\n",
       "      <th>16980</th>\n",
       "      <td>2013</td>\n",
       "      <td>109100.0</td>\n",
       "      <td>294.0</td>\n",
       "      <td>3.5</td>\n",
       "      <td>22</td>\n",
       "      <td>305</td>\n",
       "      <td>0</td>\n",
       "      <td>1</td>\n",
       "      <td>0</td>\n",
       "      <td>0</td>\n",
       "      <td>2</td>\n",
       "      <td>0</td>\n",
       "      <td>1</td>\n",
       "    </tr>\n",
       "  </tbody>\n",
       "</table>\n",
       "</div>"
      ],
      "text/plain": [
       "       Release_Year   Mileage  Power  Engine_capacity  Mark_cat  Model_cat  \\\n",
       "16976          2002  322895.0  125.0              1.7        30        698   \n",
       "16977          2003  130000.0  231.0              1.3        48        608   \n",
       "16978          2011  140000.0   84.0              1.2        10        144   \n",
       "16979          1995  220000.0  136.0              2.2        53        329   \n",
       "16980          2013  109100.0  294.0              3.5        22        305   \n",
       "\n",
       "       Owners_cat  Status_cat  Engine_type_cat  Transmission_cat  Drive_cat  \\\n",
       "16976           3           1                0                 2          1   \n",
       "16977           3           1                0                 2          0   \n",
       "16978           1           1                0                 2          1   \n",
       "16979           3           1                0                 2          2   \n",
       "16980           0           1                0                 0          2   \n",
       "\n",
       "       Body_type_cat  Color_cat  \n",
       "16976              5         12  \n",
       "16977              2          4  \n",
       "16978              7         16  \n",
       "16979              0         13  \n",
       "16980              0          1  "
      ]
     },
     "execution_count": 37,
     "metadata": {},
     "output_type": "execute_result"
    }
   ],
   "source": [
    "test_points.head()"
   ]
  },
  {
   "cell_type": "code",
   "execution_count": 38,
   "id": "7f073577",
   "metadata": {},
   "outputs": [
    {
     "name": "stdout",
     "output_type": "stream",
     "text": [
      "<class 'pandas.core.frame.DataFrame'>\n",
      "Int64Index: 542 entries, 16976 to 17526\n",
      "Data columns (total 13 columns):\n",
      " #   Column            Non-Null Count  Dtype  \n",
      "---  ------            --------------  -----  \n",
      " 0   Release_Year      542 non-null    int64  \n",
      " 1   Mileage           542 non-null    float64\n",
      " 2   Power             542 non-null    float64\n",
      " 3   Engine_capacity   542 non-null    float64\n",
      " 4   Mark_cat          542 non-null    int8   \n",
      " 5   Model_cat         542 non-null    int16  \n",
      " 6   Owners_cat        542 non-null    int8   \n",
      " 7   Status_cat        542 non-null    int8   \n",
      " 8   Engine_type_cat   542 non-null    int8   \n",
      " 9   Transmission_cat  542 non-null    int8   \n",
      " 10  Drive_cat         542 non-null    int8   \n",
      " 11  Body_type_cat     542 non-null    int8   \n",
      " 12  Color_cat         542 non-null    int8   \n",
      "dtypes: float64(3), int16(1), int64(1), int8(8)\n",
      "memory usage: 26.5 KB\n"
     ]
    }
   ],
   "source": [
    "test_points.info()"
   ]
  },
  {
   "cell_type": "markdown",
   "id": "13591841",
   "metadata": {},
   "source": [
    "Сравним наборы признаков в тестовой и обучающей выборке\n"
   ]
  },
  {
   "cell_type": "code",
   "execution_count": 39,
   "id": "01792cc0",
   "metadata": {},
   "outputs": [
    {
     "data": {
      "text/plain": [
       "True"
      ]
     },
     "execution_count": 39,
     "metadata": {},
     "output_type": "execute_result"
    }
   ],
   "source": [
    "list(test_points)==list(training_points)"
   ]
  },
  {
   "cell_type": "markdown",
   "id": "e2d76ebf",
   "metadata": {},
   "source": [
    "# 5. Провалидировать модель на тестовой выборке"
   ]
  },
  {
   "cell_type": "markdown",
   "id": "a3f4fee2",
   "metadata": {},
   "source": [
    "**Шаг 5.1. Сравнение моделей.**\n",
    "\n",
    "Теперь мы готовы сравнить качество двух моделей! 😎"
   ]
  },
  {
   "cell_type": "markdown",
   "id": "c0b23942",
   "metadata": {},
   "source": [
    "*1. Какая модель лучше?*\n",
    "\n",
    "Получим прогнозы целевой переменной на тестовых данных для модели линейной регрессии м модели случайного леса. \n",
    "\n",
    "Для этого вызовем у каждой модели метод **predict()**, в качестве аргумента передадим *test_points*."
   ]
  },
  {
   "cell_type": "code",
   "execution_count": 40,
   "id": "e679b0d1",
   "metadata": {},
   "outputs": [],
   "source": [
    "test_predictions_linear = linear_regression_model.predict(test_points)"
   ]
  },
  {
   "cell_type": "code",
   "execution_count": 41,
   "id": "38d95771",
   "metadata": {},
   "outputs": [],
   "source": [
    "test_predictions_random_forest = random_forest_model.predict(test_points)"
   ]
  },
  {
   "cell_type": "markdown",
   "id": "90ee3cb5",
   "metadata": {},
   "source": [
    "Качество регрессионных моделей оценим двумя способами: \n",
    "1. Сравним визуально прогнозы с настоящими ценами (тестовые с предсказанием)\n",
    "2. Сравним метрики качества"
   ]
  },
  {
   "cell_type": "markdown",
   "id": "12e05ddb",
   "metadata": {},
   "source": [
    "Визуализируем прогноз линейной модели и настоящие значения из тестовой выборки"
   ]
  },
  {
   "cell_type": "code",
   "execution_count": 42,
   "id": "b9ea87aa",
   "metadata": {},
   "outputs": [
    {
     "data": {
      "image/png": "[encoded data removed]",
      "text/plain": [
       "<Figure size 504x504 with 1 Axes>"
      ]
     },
     "metadata": {
      "needs_background": "light"
     },
     "output_type": "display_data"
    }
   ],
   "source": [
    "plt.figure(figsize=(7, 7))\n",
    "plt.scatter(test_values, test_predictions_linear) # рисуем точки, соответствущие парам настоящее значение - прогноз\n",
    "plt.plot([0, max(test_values)], [0, max(test_predictions_linear)])  # рисуем прямую, на которой предсказания и настоящие значения совпадают\n",
    "plt.xlabel('Настоящая цена', fontsize=20)\n",
    "plt.ylabel('Предсказанная цена', fontsize=20);"
   ]
  },
  {
   "cell_type": "markdown",
   "id": "041fac08",
   "metadata": {
    "id": "h3sJ0r0EVpJW"
   },
   "source": [
    "Визуализируем прогноз модели случайного леса и настоящие значения из тестовой выборки"
   ]
  },
  {
   "cell_type": "code",
   "execution_count": 43,
   "id": "e944ad42",
   "metadata": {},
   "outputs": [
    {
     "data": {
      "image/png": "[encoded data removed]",
      "text/plain": [
       "<Figure size 504x504 with 1 Axes>"
      ]
     },
     "metadata": {
      "needs_background": "light"
     },
     "output_type": "display_data"
    }
   ],
   "source": [
    "plt.figure(figsize=(7, 7))\n",
    "plt.scatter(test_values, test_predictions_random_forest) # рисуем точки, соответствущие парам настоящее значение - прогноз\n",
    "plt.plot([0, max(test_values)], [0, max(test_predictions_random_forest)]) # рисуем прямую, на которой предсказания и настоящие значения совпадают\n",
    "plt.xlabel('Настоящая цена', fontsize=20)\n",
    "plt.ylabel('Предсказанная цена', fontsize=20);"
   ]
  },
  {
   "cell_type": "markdown",
   "id": "7402216c",
   "metadata": {},
   "source": [
    "Для корректного подсчета метрик качества модели в python требуется загрузить их из библиотеки **sklearn**. \n",
    "\n",
    "Мы используем две метрики качества:\n",
    " * *mean_absolute_error* - средняя абсолютная ошибка $|y_i - \\hat{y}_i|$\n",
    " * *mean_squared_error* - средняя квадратичная ошибка $(y_i - \\hat{y}_i)^2$\n",
    " * *RMSE* - корень из *mean_squared_error*"
   ]
  },
  {
   "cell_type": "markdown",
   "id": "0f039e20",
   "metadata": {},
   "source": [
    "Кажется, что лучше сработала модель случайного леса, так как точки на втором изображении расположены вдоль диагонали. На первом изображении видно, что для высоких настоящих цен модель линейной регрессии дает существенно заниженный результат. \n",
    "\n",
    "Проверим, так ли это с помощью **метрик качества регрессионной модели**"
   ]
  },
  {
   "cell_type": "code",
   "execution_count": 44,
   "id": "ff9550dc",
   "metadata": {},
   "outputs": [],
   "source": [
    "from sklearn.metrics import mean_absolute_error, mean_squared_error, r2_score"
   ]
  },
  {
   "cell_type": "markdown",
   "id": "d11ab153",
   "metadata": {},
   "source": [
    "Подсчитаем ошибки для линейной модели.\n",
    "\n",
    "Для этого вызовем методы **mean_absolute_error()** и **mean_squared_error()**. На вход им передается столбец настоящих значений *test_values* и столбец значений, предсказанных моделью линейной регрессии *test_predictions_linear*."
   ]
  },
  {
   "cell_type": "code",
   "execution_count": 45,
   "id": "cb7a3d7e",
   "metadata": {},
   "outputs": [],
   "source": [
    "mean_absolute_error_linear_model = mean_absolute_error(test_values, test_predictions_linear)\n",
    "mean_squared_error_linear_model = mean_squared_error(test_values, test_predictions_linear)\n",
    "r2_score_linear_model = r2_score(test_values, test_predictions_linear)"
   ]
  },
  {
   "cell_type": "markdown",
   "id": "01f56751",
   "metadata": {},
   "source": [
    "Подсчитаем ошибки для модели случайного леса.\n",
    "\n",
    "Для этого вызовем методы **mean_absolute_error()** и **mean_squared_error()**. На вход им передается столбец настоящих значений *test_values* и столбец значений, предсказанных моделью линейной регрессии *test_predictions_random_forest*."
   ]
  },
  {
   "cell_type": "code",
   "execution_count": 46,
   "id": "c5b48777",
   "metadata": {},
   "outputs": [],
   "source": [
    "mean_absolute_error_random_forest_model = mean_absolute_error(test_values, test_predictions_random_forest)\n",
    "mean_squared_error_random_forest_model = mean_squared_error(test_values, test_predictions_random_forest)\n",
    "r2_score_random_forest_model = r2_score(test_values, test_predictions_random_forest)\n"
   ]
  },
  {
   "cell_type": "markdown",
   "id": "525f9702",
   "metadata": {},
   "source": [
    "Теперь напечатаем полученные ошибки."
   ]
  },
  {
   "cell_type": "code",
   "execution_count": 47,
   "id": "c78d61e4",
   "metadata": {},
   "outputs": [
    {
     "name": "stdout",
     "output_type": "stream",
     "text": [
      "Linear\n",
      "средняя абсолютная ошибка: 291166.42, средняя квадратичная ошибка: 423942.96, оценка r2:    0.60 for linear model\n",
      "Forest\n",
      "средняя абсолютная ошибка: 92239.96, средняя квадратичная ошибка: 190314.35, оценка r2:    0.92 for random forest model\n"
     ]
    }
   ],
   "source": [
    "print(\"Linear\")\n",
    "print(\"средняя абсолютная ошибка: {0:7.2f}, средняя квадратичная ошибка: {1:7.2f}, оценка r2: {2:7.2f} for linear model\".format(\n",
    "        mean_absolute_error(test_values, test_predictions_linear), \n",
    "        mean_squared_error(test_values, test_predictions_linear)**0.5, r2_score_linear_model))\n",
    "\n",
    "print(\"Forest\")\n",
    "print(\"средняя абсолютная ошибка: {0:7.2f}, средняя квадратичная ошибка: {1:7.2f}, оценка r2: {2:7.2f} for random forest model\".format(\n",
    "       mean_absolute_error(test_values, test_predictions_random_forest), \n",
    "       mean_squared_error(test_values, test_predictions_random_forest)**0.5, r2_score_random_forest_model))\n"
   ]
  },
  {
   "cell_type": "markdown",
   "id": "00a12cb5",
   "metadata": {},
   "source": [
    "Модель случайного леса работает лучше и визуально, и потому, что абсолютная и средне квадратичная ошибка меньше для линейной регресии.\n",
    "\n",
    "Мы получили значения метрик ошибок наших моделей. Чтобы понять, насколько это нас утсраивает, важно взглянуть на исходный порядок цен на автомобили.\n",
    "Видно, что средняя цена имеет порядок 20 000 долларов, что означает, что полученная ошибка может удовлетворять предъявляемым требованиям к модели регрессии."
   ]
  },
  {
   "cell_type": "code",
   "execution_count": 48,
   "id": "c95771ac",
   "metadata": {},
   "outputs": [],
   "source": [
    "mark = 'Mazda'\n",
    "model = '6'\n",
    "release_year = 2016\n",
    "mileage = 89306\n",
    "owners = '1'\n",
    "status = 'Не битый'\n",
    "power_engine = 192\n",
    "engine_capacity = 2.5\n",
    "engine_type = 'Бензин'\n",
    "transmission = 'Автомат'\n",
    "drive = 'Передний'\n",
    "body_type = 'Седан'\n",
    "color = 'Белый'\n",
    "\n",
    "# Преобразуем введённые данные к виду, который поддерживает модель\n",
    "\n",
    "try:\n",
    "    mark = marks_cat.index(mark)\n",
    "    model = model_cat.index(model)\n",
    "    owners = owners_cat.index(owners)\n",
    "    status = status_cat.index(status)\n",
    "    engine_type = engine_type_cat.index(engine_type)\n",
    "    transmission = transmission_cat.index(transmission)\n",
    "    drive = drive_cat.index(drive)\n",
    "    body_type = body_type_cat.index(body_type)\n",
    "    color = color_cat.index(color)\n",
    "except:\n",
    "    print(\"There is unsupported value\")\n",
    "    \n",
    "test = pd.DataFrame({'Release_Year': [release_year], 'Mileage': [mileage], 'Power': [power_engine], \n",
    "                         'Engine_capacity': [engine_capacity], 'Mark_cat': [mark], 'Model_cat': [model],\n",
    "                        'Owners_cat': [owners], 'Status_cat': [status], \n",
    "                        'Engine_type_cat': [engine_type], 'Transmission_cat': [transmission], \n",
    "                        'Drive_cat': [drive], 'Body_type_cat': [body_type], \n",
    "                        'Color_cat': [color]})"
   ]
  },
  {
   "cell_type": "code",
   "execution_count": 49,
   "id": "24166e56",
   "metadata": {},
   "outputs": [],
   "source": [
    "example_linear = linear_regression_model.predict(test)\n",
    "example_forest = random_forest_model.predict(test)"
   ]
  },
  {
   "cell_type": "code",
   "execution_count": 50,
   "id": "a8a1d833",
   "metadata": {},
   "outputs": [
    {
     "name": "stdout",
     "output_type": "stream",
     "text": [
      "1579737.2429262996 1751190.0\n"
     ]
    }
   ],
   "source": [
    "print(f\"{example_linear[0]} {example_forest[0]}\")"
   ]
  }
 ],
 "metadata": {
  "kernelspec": {
   "display_name": "Python 3 (ipykernel)",
   "language": "python",
   "name": "python3"
  },
  "language_info": {
   "codemirror_mode": {
    "name": "ipython",
    "version": 3
   },
   "file_extension": ".py",
   "mimetype": "text/x-python",
   "name": "python",
   "nbconvert_exporter": "python",
   "pygments_lexer": "ipython3",
   "version": "3.7.6"
  }
 },
 "nbformat": 4,
 "nbformat_minor": 5
}
